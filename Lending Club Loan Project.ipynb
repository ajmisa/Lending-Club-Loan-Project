{
 "cells": [
  {
   "cell_type": "markdown",
   "id": "52b0d9f9",
   "metadata": {},
   "source": [
    "## The Data\n",
    "\n",
    "We will be using a subset of the LendingClub DataSet obtained from Kaggle: https://www.kaggle.com/wordsforthewise/lending-club\n",
    "\n",
    "LendingClub is a US peer-to-peer lending company, headquartered in San Francisco, California. It was the first peer-to-peer lender to register its offerings as securities with the Securities and Exchange Commission (SEC), and to offer loan trading on a secondary market. LendingClub is the world's largest peer-to-peer lending platform.\n",
    "\n",
    "\n",
    "### Our Goal\n",
    "\n",
    "Given historical data on loans given out with information on whether or not the borrower defaulted (charge-off), can we build a model that can predict wether or nor a borrower will pay back their loan? This way in the future when we get a new potential customer we can assess whether or not they are likely to pay back the loan.\n",
    "\n",
    "The \"loan_status\" column contains our label.\n",
    "\n",
    "### Data Overview\n",
    "\n",
    "* loan_amnt - The listed amount of the loan applied for by the borrower. If at some point in time, the credit department reduces the loan amount, then it will be reflected in this value.\n",
    "* term - The number of payments on the loan. Values are in months and can be either 36 or 60.\n",
    "* int_rate - Interest Rate on the loan\n",
    "* installment - The monthly payment owed by the borrower if the loan originates.\n",
    "* grade - LC assigned loan grade\n",
    "* sub_grade - LC assigned loan subgrade\n",
    "* emp_title\t- The job title supplied by the Borrower when applying for the loan.\n",
    "* emp_length - Employment length in years. Possible values are between 0 and 10 where 0 means less than one year and 10 means ten or more years.\n",
    "* home_ownership - The home ownership status provided by the borrower during registration or obtained from the credit report. Our values are: RENT, OWN, MORTGAGE, OTHER\n",
    "* annual_inc - The self-reported annual income provided by the borrower during registration.\n",
    "* verification_status - Indicates if income was verified by LC, not verified, or if the income source was verified\n",
    "* issue_d - The month which the loan was funded\n",
    "* loan_status - Current status of the loan\n",
    "* purpose - A category provided by the borrower for the loan request.\n",
    "* title - The loan title provided by the borrower\n",
    "* zip_code - The first 3 numbers of the zip code provided by the borrower in the loan application.\n",
    "* addr_state - The state provided by the borrower in the loan application\n",
    "* dti - A ratio calculated using the borrower’s total monthly debt payments on the total debt obligations, excluding mortgage and the requested LC loan, divided by the borrower’s self-reported monthly income.\n",
    "* earliest_cr_line - The month the borrower's earliest reported credit line was opened\n",
    "* open_acc - The number of open credit lines in the borrower's credit file.\n",
    "* pub_rec - Number of derogatory public records\n",
    "* revol_bal - Total credit revolving balance\n",
    "* revol_util - Revolving line utilization rate, or the amount of credit the borrower is using relative to all available revolving credit.\n",
    "* total_acc\t- The total number of credit lines currently in the borrower's credit file\n",
    "* initial_list_status - The initial listing status of the loan. Possible values are – W, F\n",
    "* application_type - Indicates whether the loan is an individual application or a joint application with two co-borrowers\n",
    "* mort_acc - Number of mortgage accounts.\n",
    "* pub_rec_bankruptcies - Number of public record bankruptcies"
   ]
  },
  {
   "cell_type": "markdown",
   "id": "c0bf1e27",
   "metadata": {},
   "source": [
    "#### Importing visualization libraries and reading the dataset"
   ]
  },
  {
   "cell_type": "code",
   "execution_count": 1,
   "id": "79fdb231",
   "metadata": {},
   "outputs": [],
   "source": [
    "import pandas as pd\n",
    "import numpy as np\n",
    "import matplotlib.pyplot as plt\n",
    "import seaborn as sns\n",
    "%matplotlib inline"
   ]
  },
  {
   "cell_type": "code",
   "execution_count": 2,
   "id": "90060111",
   "metadata": {},
   "outputs": [],
   "source": [
    "loan_data_info= pd.read_csv('../data/lending_club_info.csv', index_col = 'LoanStatNew')"
   ]
  },
  {
   "cell_type": "code",
   "execution_count": 3,
   "id": "bff261ee",
   "metadata": {},
   "outputs": [
    {
     "data": {
      "text/html": [
       "<div>\n",
       "<style scoped>\n",
       "    .dataframe tbody tr th:only-of-type {\n",
       "        vertical-align: middle;\n",
       "    }\n",
       "\n",
       "    .dataframe tbody tr th {\n",
       "        vertical-align: top;\n",
       "    }\n",
       "\n",
       "    .dataframe thead th {\n",
       "        text-align: right;\n",
       "    }\n",
       "</style>\n",
       "<table border=\"1\" class=\"dataframe\">\n",
       "  <thead>\n",
       "    <tr style=\"text-align: right;\">\n",
       "      <th></th>\n",
       "      <th>Description</th>\n",
       "    </tr>\n",
       "    <tr>\n",
       "      <th>LoanStatNew</th>\n",
       "      <th></th>\n",
       "    </tr>\n",
       "  </thead>\n",
       "  <tbody>\n",
       "    <tr>\n",
       "      <th>loan_amnt</th>\n",
       "      <td>The listed amount of the loan applied for by t...</td>\n",
       "    </tr>\n",
       "    <tr>\n",
       "      <th>term</th>\n",
       "      <td>The number of payments on the loan. Values are...</td>\n",
       "    </tr>\n",
       "    <tr>\n",
       "      <th>int_rate</th>\n",
       "      <td>Interest Rate on the loan</td>\n",
       "    </tr>\n",
       "    <tr>\n",
       "      <th>installment</th>\n",
       "      <td>The monthly payment owed by the borrower if th...</td>\n",
       "    </tr>\n",
       "    <tr>\n",
       "      <th>grade</th>\n",
       "      <td>LC assigned loan grade</td>\n",
       "    </tr>\n",
       "    <tr>\n",
       "      <th>sub_grade</th>\n",
       "      <td>LC assigned loan subgrade</td>\n",
       "    </tr>\n",
       "    <tr>\n",
       "      <th>emp_title</th>\n",
       "      <td>The job title supplied by the Borrower when ap...</td>\n",
       "    </tr>\n",
       "    <tr>\n",
       "      <th>emp_length</th>\n",
       "      <td>Employment length in years. Possible values ar...</td>\n",
       "    </tr>\n",
       "    <tr>\n",
       "      <th>home_ownership</th>\n",
       "      <td>The home ownership status provided by the borr...</td>\n",
       "    </tr>\n",
       "    <tr>\n",
       "      <th>annual_inc</th>\n",
       "      <td>The self-reported annual income provided by th...</td>\n",
       "    </tr>\n",
       "    <tr>\n",
       "      <th>verification_status</th>\n",
       "      <td>Indicates if income was verified by LC, not ve...</td>\n",
       "    </tr>\n",
       "    <tr>\n",
       "      <th>issue_d</th>\n",
       "      <td>The month which the loan was funded</td>\n",
       "    </tr>\n",
       "    <tr>\n",
       "      <th>loan_status</th>\n",
       "      <td>Current status of the loan</td>\n",
       "    </tr>\n",
       "    <tr>\n",
       "      <th>purpose</th>\n",
       "      <td>A category provided by the borrower for the lo...</td>\n",
       "    </tr>\n",
       "    <tr>\n",
       "      <th>title</th>\n",
       "      <td>The loan title provided by the borrower</td>\n",
       "    </tr>\n",
       "    <tr>\n",
       "      <th>zip_code</th>\n",
       "      <td>The first 3 numbers of the zip code provided b...</td>\n",
       "    </tr>\n",
       "    <tr>\n",
       "      <th>addr_state</th>\n",
       "      <td>The state provided by the borrower in the loan...</td>\n",
       "    </tr>\n",
       "    <tr>\n",
       "      <th>dti</th>\n",
       "      <td>A ratio calculated using the borrower’s total ...</td>\n",
       "    </tr>\n",
       "    <tr>\n",
       "      <th>earliest_cr_line</th>\n",
       "      <td>The month the borrower's earliest reported cre...</td>\n",
       "    </tr>\n",
       "    <tr>\n",
       "      <th>open_acc</th>\n",
       "      <td>The number of open credit lines in the borrowe...</td>\n",
       "    </tr>\n",
       "    <tr>\n",
       "      <th>pub_rec</th>\n",
       "      <td>Number of derogatory public records</td>\n",
       "    </tr>\n",
       "    <tr>\n",
       "      <th>revol_bal</th>\n",
       "      <td>Total credit revolving balance</td>\n",
       "    </tr>\n",
       "    <tr>\n",
       "      <th>revol_util</th>\n",
       "      <td>Revolving line utilization rate, or the amount...</td>\n",
       "    </tr>\n",
       "    <tr>\n",
       "      <th>total_acc</th>\n",
       "      <td>The total number of credit lines currently in ...</td>\n",
       "    </tr>\n",
       "    <tr>\n",
       "      <th>initial_list_status</th>\n",
       "      <td>The initial listing status of the loan. Possib...</td>\n",
       "    </tr>\n",
       "    <tr>\n",
       "      <th>application_type</th>\n",
       "      <td>Indicates whether the loan is an individual ap...</td>\n",
       "    </tr>\n",
       "    <tr>\n",
       "      <th>mort_acc</th>\n",
       "      <td>Number of mortgage accounts.</td>\n",
       "    </tr>\n",
       "    <tr>\n",
       "      <th>pub_rec_bankruptcies</th>\n",
       "      <td>Number of public record bankruptcies</td>\n",
       "    </tr>\n",
       "  </tbody>\n",
       "</table>\n",
       "</div>"
      ],
      "text/plain": [
       "                                                            Description\n",
       "LoanStatNew                                                            \n",
       "loan_amnt             The listed amount of the loan applied for by t...\n",
       "term                  The number of payments on the loan. Values are...\n",
       "int_rate                                      Interest Rate on the loan\n",
       "installment           The monthly payment owed by the borrower if th...\n",
       "grade                                            LC assigned loan grade\n",
       "sub_grade                                     LC assigned loan subgrade\n",
       "emp_title             The job title supplied by the Borrower when ap...\n",
       "emp_length            Employment length in years. Possible values ar...\n",
       "home_ownership        The home ownership status provided by the borr...\n",
       "annual_inc            The self-reported annual income provided by th...\n",
       "verification_status   Indicates if income was verified by LC, not ve...\n",
       "issue_d                             The month which the loan was funded\n",
       "loan_status                                  Current status of the loan\n",
       "purpose               A category provided by the borrower for the lo...\n",
       "title                           The loan title provided by the borrower\n",
       "zip_code              The first 3 numbers of the zip code provided b...\n",
       "addr_state            The state provided by the borrower in the loan...\n",
       "dti                   A ratio calculated using the borrower’s total ...\n",
       "earliest_cr_line      The month the borrower's earliest reported cre...\n",
       "open_acc              The number of open credit lines in the borrowe...\n",
       "pub_rec                             Number of derogatory public records\n",
       "revol_bal                                Total credit revolving balance\n",
       "revol_util            Revolving line utilization rate, or the amount...\n",
       "total_acc             The total number of credit lines currently in ...\n",
       "initial_list_status   The initial listing status of the loan. Possib...\n",
       "application_type      Indicates whether the loan is an individual ap...\n",
       "mort_acc                                   Number of mortgage accounts.\n",
       "pub_rec_bankruptcies               Number of public record bankruptcies"
      ]
     },
     "execution_count": 3,
     "metadata": {},
     "output_type": "execute_result"
    }
   ],
   "source": [
    "loan_data_info"
   ]
  },
  {
   "cell_type": "markdown",
   "id": "e7037f44",
   "metadata": {},
   "source": [
    "*As there are a lot of features, let's make function that will give the info about the desirable feature.*"
   ]
  },
  {
   "cell_type": "code",
   "execution_count": 4,
   "id": "33db9ccc",
   "metadata": {},
   "outputs": [],
   "source": [
    "def feature_info(col_name):\n",
    "    print(loan_data_info.loc[col_name]['Description'])"
   ]
  },
  {
   "cell_type": "code",
   "execution_count": 5,
   "id": "664e328c",
   "metadata": {},
   "outputs": [
    {
     "name": "stdout",
     "output_type": "stream",
     "text": [
      "Current status of the loan\n"
     ]
    }
   ],
   "source": [
    "feature_info('loan_status')"
   ]
  },
  {
   "cell_type": "code",
   "execution_count": 6,
   "id": "4c6ced75",
   "metadata": {},
   "outputs": [],
   "source": [
    "loan_data = pd.read_csv('../data/lending_club_loan_two.csv')"
   ]
  },
  {
   "cell_type": "code",
   "execution_count": 7,
   "id": "23d7383f",
   "metadata": {},
   "outputs": [
    {
     "data": {
      "text/html": [
       "<div>\n",
       "<style scoped>\n",
       "    .dataframe tbody tr th:only-of-type {\n",
       "        vertical-align: middle;\n",
       "    }\n",
       "\n",
       "    .dataframe tbody tr th {\n",
       "        vertical-align: top;\n",
       "    }\n",
       "\n",
       "    .dataframe thead th {\n",
       "        text-align: right;\n",
       "    }\n",
       "</style>\n",
       "<table border=\"1\" class=\"dataframe\">\n",
       "  <thead>\n",
       "    <tr style=\"text-align: right;\">\n",
       "      <th></th>\n",
       "      <th>0</th>\n",
       "      <th>1</th>\n",
       "      <th>2</th>\n",
       "    </tr>\n",
       "  </thead>\n",
       "  <tbody>\n",
       "    <tr>\n",
       "      <th>loan_amnt</th>\n",
       "      <td>10000.0</td>\n",
       "      <td>8000.0</td>\n",
       "      <td>15600.0</td>\n",
       "    </tr>\n",
       "    <tr>\n",
       "      <th>term</th>\n",
       "      <td>36 months</td>\n",
       "      <td>36 months</td>\n",
       "      <td>36 months</td>\n",
       "    </tr>\n",
       "    <tr>\n",
       "      <th>int_rate</th>\n",
       "      <td>11.44</td>\n",
       "      <td>11.99</td>\n",
       "      <td>10.49</td>\n",
       "    </tr>\n",
       "    <tr>\n",
       "      <th>installment</th>\n",
       "      <td>329.48</td>\n",
       "      <td>265.68</td>\n",
       "      <td>506.97</td>\n",
       "    </tr>\n",
       "    <tr>\n",
       "      <th>grade</th>\n",
       "      <td>B</td>\n",
       "      <td>B</td>\n",
       "      <td>B</td>\n",
       "    </tr>\n",
       "    <tr>\n",
       "      <th>sub_grade</th>\n",
       "      <td>B4</td>\n",
       "      <td>B5</td>\n",
       "      <td>B3</td>\n",
       "    </tr>\n",
       "    <tr>\n",
       "      <th>emp_title</th>\n",
       "      <td>Marketing</td>\n",
       "      <td>Credit analyst</td>\n",
       "      <td>Statistician</td>\n",
       "    </tr>\n",
       "    <tr>\n",
       "      <th>emp_length</th>\n",
       "      <td>10+ years</td>\n",
       "      <td>4 years</td>\n",
       "      <td>&lt; 1 year</td>\n",
       "    </tr>\n",
       "    <tr>\n",
       "      <th>home_ownership</th>\n",
       "      <td>RENT</td>\n",
       "      <td>MORTGAGE</td>\n",
       "      <td>RENT</td>\n",
       "    </tr>\n",
       "    <tr>\n",
       "      <th>annual_inc</th>\n",
       "      <td>117000.0</td>\n",
       "      <td>65000.0</td>\n",
       "      <td>43057.0</td>\n",
       "    </tr>\n",
       "    <tr>\n",
       "      <th>verification_status</th>\n",
       "      <td>Not Verified</td>\n",
       "      <td>Not Verified</td>\n",
       "      <td>Source Verified</td>\n",
       "    </tr>\n",
       "    <tr>\n",
       "      <th>issue_d</th>\n",
       "      <td>Jan-2015</td>\n",
       "      <td>Jan-2015</td>\n",
       "      <td>Jan-2015</td>\n",
       "    </tr>\n",
       "    <tr>\n",
       "      <th>loan_status</th>\n",
       "      <td>Fully Paid</td>\n",
       "      <td>Fully Paid</td>\n",
       "      <td>Fully Paid</td>\n",
       "    </tr>\n",
       "    <tr>\n",
       "      <th>purpose</th>\n",
       "      <td>vacation</td>\n",
       "      <td>debt_consolidation</td>\n",
       "      <td>credit_card</td>\n",
       "    </tr>\n",
       "    <tr>\n",
       "      <th>title</th>\n",
       "      <td>Vacation</td>\n",
       "      <td>Debt consolidation</td>\n",
       "      <td>Credit card refinancing</td>\n",
       "    </tr>\n",
       "    <tr>\n",
       "      <th>dti</th>\n",
       "      <td>26.24</td>\n",
       "      <td>22.05</td>\n",
       "      <td>12.79</td>\n",
       "    </tr>\n",
       "    <tr>\n",
       "      <th>earliest_cr_line</th>\n",
       "      <td>Jun-1990</td>\n",
       "      <td>Jul-2004</td>\n",
       "      <td>Aug-2007</td>\n",
       "    </tr>\n",
       "    <tr>\n",
       "      <th>open_acc</th>\n",
       "      <td>16.0</td>\n",
       "      <td>17.0</td>\n",
       "      <td>13.0</td>\n",
       "    </tr>\n",
       "    <tr>\n",
       "      <th>pub_rec</th>\n",
       "      <td>0.0</td>\n",
       "      <td>0.0</td>\n",
       "      <td>0.0</td>\n",
       "    </tr>\n",
       "    <tr>\n",
       "      <th>revol_bal</th>\n",
       "      <td>36369.0</td>\n",
       "      <td>20131.0</td>\n",
       "      <td>11987.0</td>\n",
       "    </tr>\n",
       "    <tr>\n",
       "      <th>revol_util</th>\n",
       "      <td>41.8</td>\n",
       "      <td>53.3</td>\n",
       "      <td>92.2</td>\n",
       "    </tr>\n",
       "    <tr>\n",
       "      <th>total_acc</th>\n",
       "      <td>25.0</td>\n",
       "      <td>27.0</td>\n",
       "      <td>26.0</td>\n",
       "    </tr>\n",
       "    <tr>\n",
       "      <th>initial_list_status</th>\n",
       "      <td>w</td>\n",
       "      <td>f</td>\n",
       "      <td>f</td>\n",
       "    </tr>\n",
       "    <tr>\n",
       "      <th>application_type</th>\n",
       "      <td>INDIVIDUAL</td>\n",
       "      <td>INDIVIDUAL</td>\n",
       "      <td>INDIVIDUAL</td>\n",
       "    </tr>\n",
       "    <tr>\n",
       "      <th>mort_acc</th>\n",
       "      <td>0.0</td>\n",
       "      <td>3.0</td>\n",
       "      <td>0.0</td>\n",
       "    </tr>\n",
       "    <tr>\n",
       "      <th>pub_rec_bankruptcies</th>\n",
       "      <td>0.0</td>\n",
       "      <td>0.0</td>\n",
       "      <td>0.0</td>\n",
       "    </tr>\n",
       "    <tr>\n",
       "      <th>address</th>\n",
       "      <td>0174 Michelle Gateway\\nMendozaberg, OK 22690</td>\n",
       "      <td>1076 Carney Fort Apt. 347\\nLoganmouth, SD 05113</td>\n",
       "      <td>87025 Mark Dale Apt. 269\\nNew Sabrina, WV 05113</td>\n",
       "    </tr>\n",
       "  </tbody>\n",
       "</table>\n",
       "</div>"
      ],
      "text/plain": [
       "                                                                 0  \\\n",
       "loan_amnt                                                  10000.0   \n",
       "term                                                     36 months   \n",
       "int_rate                                                     11.44   \n",
       "installment                                                 329.48   \n",
       "grade                                                            B   \n",
       "sub_grade                                                       B4   \n",
       "emp_title                                                Marketing   \n",
       "emp_length                                               10+ years   \n",
       "home_ownership                                                RENT   \n",
       "annual_inc                                                117000.0   \n",
       "verification_status                                   Not Verified   \n",
       "issue_d                                                   Jan-2015   \n",
       "loan_status                                             Fully Paid   \n",
       "purpose                                                   vacation   \n",
       "title                                                     Vacation   \n",
       "dti                                                          26.24   \n",
       "earliest_cr_line                                          Jun-1990   \n",
       "open_acc                                                      16.0   \n",
       "pub_rec                                                        0.0   \n",
       "revol_bal                                                  36369.0   \n",
       "revol_util                                                    41.8   \n",
       "total_acc                                                     25.0   \n",
       "initial_list_status                                              w   \n",
       "application_type                                        INDIVIDUAL   \n",
       "mort_acc                                                       0.0   \n",
       "pub_rec_bankruptcies                                           0.0   \n",
       "address               0174 Michelle Gateway\\nMendozaberg, OK 22690   \n",
       "\n",
       "                                                                    1  \\\n",
       "loan_amnt                                                      8000.0   \n",
       "term                                                        36 months   \n",
       "int_rate                                                        11.99   \n",
       "installment                                                    265.68   \n",
       "grade                                                               B   \n",
       "sub_grade                                                          B5   \n",
       "emp_title                                             Credit analyst    \n",
       "emp_length                                                    4 years   \n",
       "home_ownership                                               MORTGAGE   \n",
       "annual_inc                                                    65000.0   \n",
       "verification_status                                      Not Verified   \n",
       "issue_d                                                      Jan-2015   \n",
       "loan_status                                                Fully Paid   \n",
       "purpose                                            debt_consolidation   \n",
       "title                                              Debt consolidation   \n",
       "dti                                                             22.05   \n",
       "earliest_cr_line                                             Jul-2004   \n",
       "open_acc                                                         17.0   \n",
       "pub_rec                                                           0.0   \n",
       "revol_bal                                                     20131.0   \n",
       "revol_util                                                       53.3   \n",
       "total_acc                                                        27.0   \n",
       "initial_list_status                                                 f   \n",
       "application_type                                           INDIVIDUAL   \n",
       "mort_acc                                                          3.0   \n",
       "pub_rec_bankruptcies                                              0.0   \n",
       "address               1076 Carney Fort Apt. 347\\nLoganmouth, SD 05113   \n",
       "\n",
       "                                                                    2  \n",
       "loan_amnt                                                     15600.0  \n",
       "term                                                        36 months  \n",
       "int_rate                                                        10.49  \n",
       "installment                                                    506.97  \n",
       "grade                                                               B  \n",
       "sub_grade                                                          B3  \n",
       "emp_title                                                Statistician  \n",
       "emp_length                                                   < 1 year  \n",
       "home_ownership                                                   RENT  \n",
       "annual_inc                                                    43057.0  \n",
       "verification_status                                   Source Verified  \n",
       "issue_d                                                      Jan-2015  \n",
       "loan_status                                                Fully Paid  \n",
       "purpose                                                   credit_card  \n",
       "title                                         Credit card refinancing  \n",
       "dti                                                             12.79  \n",
       "earliest_cr_line                                             Aug-2007  \n",
       "open_acc                                                         13.0  \n",
       "pub_rec                                                           0.0  \n",
       "revol_bal                                                     11987.0  \n",
       "revol_util                                                       92.2  \n",
       "total_acc                                                        26.0  \n",
       "initial_list_status                                                 f  \n",
       "application_type                                           INDIVIDUAL  \n",
       "mort_acc                                                          0.0  \n",
       "pub_rec_bankruptcies                                              0.0  \n",
       "address               87025 Mark Dale Apt. 269\\nNew Sabrina, WV 05113  "
      ]
     },
     "execution_count": 7,
     "metadata": {},
     "output_type": "execute_result"
    }
   ],
   "source": [
    "loan_data.head(3).transpose()"
   ]
  },
  {
   "cell_type": "code",
   "execution_count": 8,
   "id": "4e7b368c",
   "metadata": {},
   "outputs": [
    {
     "name": "stdout",
     "output_type": "stream",
     "text": [
      "<class 'pandas.core.frame.DataFrame'>\n",
      "RangeIndex: 396030 entries, 0 to 396029\n",
      "Data columns (total 27 columns):\n",
      " #   Column                Non-Null Count   Dtype  \n",
      "---  ------                --------------   -----  \n",
      " 0   loan_amnt             396030 non-null  float64\n",
      " 1   term                  396030 non-null  object \n",
      " 2   int_rate              396030 non-null  float64\n",
      " 3   installment           396030 non-null  float64\n",
      " 4   grade                 396030 non-null  object \n",
      " 5   sub_grade             396030 non-null  object \n",
      " 6   emp_title             373103 non-null  object \n",
      " 7   emp_length            377729 non-null  object \n",
      " 8   home_ownership        396030 non-null  object \n",
      " 9   annual_inc            396030 non-null  float64\n",
      " 10  verification_status   396030 non-null  object \n",
      " 11  issue_d               396030 non-null  object \n",
      " 12  loan_status           396030 non-null  object \n",
      " 13  purpose               396030 non-null  object \n",
      " 14  title                 394275 non-null  object \n",
      " 15  dti                   396030 non-null  float64\n",
      " 16  earliest_cr_line      396030 non-null  object \n",
      " 17  open_acc              396030 non-null  float64\n",
      " 18  pub_rec               396030 non-null  float64\n",
      " 19  revol_bal             396030 non-null  float64\n",
      " 20  revol_util            395754 non-null  float64\n",
      " 21  total_acc             396030 non-null  float64\n",
      " 22  initial_list_status   396030 non-null  object \n",
      " 23  application_type      396030 non-null  object \n",
      " 24  mort_acc              358235 non-null  float64\n",
      " 25  pub_rec_bankruptcies  395495 non-null  float64\n",
      " 26  address               396030 non-null  object \n",
      "dtypes: float64(12), object(15)\n",
      "memory usage: 81.6+ MB\n"
     ]
    }
   ],
   "source": [
    "loan_data.info()"
   ]
  },
  {
   "cell_type": "markdown",
   "id": "29ce5b85",
   "metadata": {},
   "source": [
    "## Exploratory Data Analysis"
   ]
  },
  {
   "cell_type": "code",
   "execution_count": 9,
   "id": "630b6e85",
   "metadata": {
    "scrolled": true
   },
   "outputs": [
    {
     "data": {
      "text/plain": [
       "<AxesSubplot:xlabel='loan_status', ylabel='count'>"
      ]
     },
     "execution_count": 9,
     "metadata": {},
     "output_type": "execute_result"
    },
    {
     "data": {
      "image/png": "[encoded data removed]",
      "text/plain": [
       "<Figure size 864x576 with 1 Axes>"
      ]
     },
     "metadata": {
      "needs_background": "light"
     },
     "output_type": "display_data"
    }
   ],
   "source": [
    "plt.figure(figsize = (12,8))\n",
    "sns.countplot(x = 'loan_status', data = loan_data)"
   ]
  },
  {
   "cell_type": "markdown",
   "id": "87225d2e",
   "metadata": {},
   "source": [
    "*We can clearly see that our dataset is not equally distrubited in terms of loan status.*"
   ]
  },
  {
   "cell_type": "code",
   "execution_count": 10,
   "id": "7f5073c1",
   "metadata": {},
   "outputs": [
    {
     "name": "stderr",
     "output_type": "stream",
     "text": [
      "C:\\Users\\xx\\anaconda3\\lib\\site-packages\\seaborn\\distributions.py:2619: FutureWarning: `distplot` is a deprecated function and will be removed in a future version. Please adapt your code to use either `displot` (a figure-level function with similar flexibility) or `histplot` (an axes-level function for histograms).\n",
      "  warnings.warn(msg, FutureWarning)\n"
     ]
    },
    {
     "data": {
      "text/plain": [
       "(0.0, 45000.0)"
      ]
     },
     "execution_count": 10,
     "metadata": {},
     "output_type": "execute_result"
    },
    {
     "data": {
      "image/png": "[encoded data removed]",
      "text/plain": [
       "<Figure size 864x288 with 1 Axes>"
      ]
     },
     "metadata": {
      "needs_background": "light"
     },
     "output_type": "display_data"
    }
   ],
   "source": [
    "plt.figure(figsize=(12,4))\n",
    "sns.distplot(loan_data['loan_amnt'],kde=False,bins=40)\n",
    "plt.xlim(0,45000)"
   ]
  },
  {
   "cell_type": "code",
   "execution_count": 11,
   "id": "08e225cb",
   "metadata": {},
   "outputs": [
    {
     "data": {
      "text/plain": [
       "<AxesSubplot:>"
      ]
     },
     "execution_count": 11,
     "metadata": {},
     "output_type": "execute_result"
    },
    {
     "data": {
      "image/png": "[encoded data removed]",
      "text/plain": [
       "<Figure size 864x576 with 2 Axes>"
      ]
     },
     "metadata": {
      "needs_background": "light"
     },
     "output_type": "display_data"
    }
   ],
   "source": [
    "plt.figure(figsize = (12,8))\n",
    "sns.heatmap(loan_data.corr(), annot = True, cmap = 'YlGnBu')"
   ]
  },
  {
   "cell_type": "markdown",
   "id": "353b09c8",
   "metadata": {},
   "source": [
    "# PreProcessing of the Data\n"
   ]
  },
  {
   "cell_type": "code",
   "execution_count": 12,
   "id": "4e635cc6",
   "metadata": {},
   "outputs": [
    {
     "data": {
      "text/plain": [
       "loan_amnt                   0\n",
       "term                        0\n",
       "int_rate                    0\n",
       "installment                 0\n",
       "grade                       0\n",
       "sub_grade                   0\n",
       "emp_title               22927\n",
       "emp_length              18301\n",
       "home_ownership              0\n",
       "annual_inc                  0\n",
       "verification_status         0\n",
       "issue_d                     0\n",
       "loan_status                 0\n",
       "purpose                     0\n",
       "title                    1755\n",
       "dti                         0\n",
       "earliest_cr_line            0\n",
       "open_acc                    0\n",
       "pub_rec                     0\n",
       "revol_bal                   0\n",
       "revol_util                276\n",
       "total_acc                   0\n",
       "initial_list_status         0\n",
       "application_type            0\n",
       "mort_acc                37795\n",
       "pub_rec_bankruptcies      535\n",
       "address                     0\n",
       "dtype: int64"
      ]
     },
     "execution_count": 12,
     "metadata": {},
     "output_type": "execute_result"
    }
   ],
   "source": [
    "loan_data.isna().sum()"
   ]
  },
  {
   "cell_type": "code",
   "execution_count": 13,
   "id": "11d4146d",
   "metadata": {},
   "outputs": [
    {
     "data": {
      "text/plain": [
       "<AxesSubplot:>"
      ]
     },
     "execution_count": 13,
     "metadata": {},
     "output_type": "execute_result"
    },
    {
     "data": {
      "image/png": "[encoded data removed]",
      "text/plain": [
       "<Figure size 864x576 with 1 Axes>"
      ]
     },
     "metadata": {
      "needs_background": "light"
     },
     "output_type": "display_data"
    }
   ],
   "source": [
    "plt.figure(figsize = (12,8))\n",
    "sns.heatmap(loan_data.isna(), yticklabels = False, cbar = False, cmap = 'viridis')"
   ]
  },
  {
   "cell_type": "markdown",
   "id": "183724e1",
   "metadata": {},
   "source": [
    "### Overall, these feature columns contain missing values:\n",
    "* emp_title\n",
    "* emp length\n",
    "* title\n",
    "* revol_util\n",
    "* mort_acc\n",
    "* pub_rec_bankruptcies"
   ]
  },
  {
   "cell_type": "markdown",
   "id": "6227312c",
   "metadata": {},
   "source": [
    "### *1) emp_title*"
   ]
  },
  {
   "cell_type": "code",
   "execution_count": 14,
   "id": "6d007cf3",
   "metadata": {},
   "outputs": [
    {
     "name": "stdout",
     "output_type": "stream",
     "text": [
      "The job title supplied by the Borrower when applying for the loan.*\n"
     ]
    }
   ],
   "source": [
    "feature_info('emp_title')"
   ]
  },
  {
   "cell_type": "code",
   "execution_count": 15,
   "id": "d68571ff",
   "metadata": {},
   "outputs": [
    {
     "data": {
      "text/plain": [
       "173105"
      ]
     },
     "execution_count": 15,
     "metadata": {},
     "output_type": "execute_result"
    }
   ],
   "source": [
    "loan_data['emp_title'].nunique()"
   ]
  },
  {
   "cell_type": "markdown",
   "id": "7453383b",
   "metadata": {},
   "source": [
    "*There are too many titles to tranform every title to a unique dummy for a model. Thus, we will remove the whole column of the feature emp_title.* "
   ]
  },
  {
   "cell_type": "code",
   "execution_count": 16,
   "id": "26d709a6",
   "metadata": {},
   "outputs": [],
   "source": [
    "loan_data = loan_data.drop('emp_title', axis = 1)"
   ]
  },
  {
   "cell_type": "code",
   "execution_count": 17,
   "id": "00f09a41",
   "metadata": {},
   "outputs": [
    {
     "name": "stdout",
     "output_type": "stream",
     "text": [
      "<class 'pandas.core.frame.DataFrame'>\n",
      "RangeIndex: 396030 entries, 0 to 396029\n",
      "Data columns (total 26 columns):\n",
      " #   Column                Non-Null Count   Dtype  \n",
      "---  ------                --------------   -----  \n",
      " 0   loan_amnt             396030 non-null  float64\n",
      " 1   term                  396030 non-null  object \n",
      " 2   int_rate              396030 non-null  float64\n",
      " 3   installment           396030 non-null  float64\n",
      " 4   grade                 396030 non-null  object \n",
      " 5   sub_grade             396030 non-null  object \n",
      " 6   emp_length            377729 non-null  object \n",
      " 7   home_ownership        396030 non-null  object \n",
      " 8   annual_inc            396030 non-null  float64\n",
      " 9   verification_status   396030 non-null  object \n",
      " 10  issue_d               396030 non-null  object \n",
      " 11  loan_status           396030 non-null  object \n",
      " 12  purpose               396030 non-null  object \n",
      " 13  title                 394275 non-null  object \n",
      " 14  dti                   396030 non-null  float64\n",
      " 15  earliest_cr_line      396030 non-null  object \n",
      " 16  open_acc              396030 non-null  float64\n",
      " 17  pub_rec               396030 non-null  float64\n",
      " 18  revol_bal             396030 non-null  float64\n",
      " 19  revol_util            395754 non-null  float64\n",
      " 20  total_acc             396030 non-null  float64\n",
      " 21  initial_list_status   396030 non-null  object \n",
      " 22  application_type      396030 non-null  object \n",
      " 23  mort_acc              358235 non-null  float64\n",
      " 24  pub_rec_bankruptcies  395495 non-null  float64\n",
      " 25  address               396030 non-null  object \n",
      "dtypes: float64(12), object(14)\n",
      "memory usage: 78.6+ MB\n"
     ]
    }
   ],
   "source": [
    "loan_data.info()"
   ]
  },
  {
   "cell_type": "markdown",
   "id": "b6d8f3f4",
   "metadata": {},
   "source": [
    "### *2) emp_length*"
   ]
  },
  {
   "cell_type": "code",
   "execution_count": 18,
   "id": "5873996b",
   "metadata": {},
   "outputs": [
    {
     "name": "stdout",
     "output_type": "stream",
     "text": [
      "Employment length in years. Possible values are between 0 and 10 where 0 means less than one year and 10 means ten or more years. \n"
     ]
    }
   ],
   "source": [
    "feature_info('emp_length')"
   ]
  },
  {
   "cell_type": "code",
   "execution_count": 19,
   "id": "819d0b8e",
   "metadata": {},
   "outputs": [
    {
     "data": {
      "text/plain": [
       "array(['10+ years', '4 years', '< 1 year', '6 years', '9 years',\n",
       "       '2 years', '3 years', '8 years', '7 years', '5 years', '1 year',\n",
       "       nan], dtype=object)"
      ]
     },
     "execution_count": 19,
     "metadata": {},
     "output_type": "execute_result"
    }
   ],
   "source": [
    "loan_data['emp_length'].unique()"
   ]
  },
  {
   "cell_type": "code",
   "execution_count": 20,
   "id": "9fc1ac3e",
   "metadata": {},
   "outputs": [
    {
     "data": {
      "text/plain": [
       "11"
      ]
     },
     "execution_count": 20,
     "metadata": {},
     "output_type": "execute_result"
    }
   ],
   "source": [
    "loan_data['emp_length'].nunique()"
   ]
  },
  {
   "cell_type": "code",
   "execution_count": 21,
   "id": "e14664a7",
   "metadata": {},
   "outputs": [],
   "source": [
    "emp_length_order = [ '< 1 year',\n",
    "                     '1 year',\n",
    "                     '2 years',\n",
    "                     '3 years',\n",
    "                     '4 years',\n",
    "                     '5 years',\n",
    "                     '6 years',\n",
    "                     '7 years',\n",
    "                     '8 years',\n",
    "                     '9 years',\n",
    "                     '10+ years']"
   ]
  },
  {
   "cell_type": "code",
   "execution_count": 22,
   "id": "c2275895",
   "metadata": {},
   "outputs": [
    {
     "data": {
      "text/plain": [
       "<AxesSubplot:xlabel='emp_length', ylabel='count'>"
      ]
     },
     "execution_count": 22,
     "metadata": {},
     "output_type": "execute_result"
    },
    {
     "data": {
      "image/png": "[encoded data removed]",
      "text/plain": [
       "<Figure size 864x576 with 1 Axes>"
      ]
     },
     "metadata": {
      "needs_background": "light"
     },
     "output_type": "display_data"
    }
   ],
   "source": [
    "plt.figure(figsize = (12,8))\n",
    "sns.countplot(x = 'emp_length', data = loan_data, order = emp_length_order)"
   ]
  },
  {
   "cell_type": "markdown",
   "id": "d3177b13",
   "metadata": {},
   "source": [
    "*Let's check if emp_length have a strong impact on loan status.*"
   ]
  },
  {
   "cell_type": "code",
   "execution_count": 23,
   "id": "2a7449c6",
   "metadata": {},
   "outputs": [
    {
     "data": {
      "text/plain": [
       "<AxesSubplot:xlabel='emp_length', ylabel='count'>"
      ]
     },
     "execution_count": 23,
     "metadata": {},
     "output_type": "execute_result"
    },
    {
     "data": {
      "image/png": "[encoded data removed]",
      "text/plain": [
       "<Figure size 864x432 with 1 Axes>"
      ]
     },
     "metadata": {
      "needs_background": "light"
     },
     "output_type": "display_data"
    }
   ],
   "source": [
    "plt.figure(figsize = (12,6))\n",
    "sns.countplot(x = 'emp_length',\n",
    "              data = loan_data,\n",
    "              order = emp_length_order,\n",
    "              hue = 'loan_status')"
   ]
  },
  {
   "cell_type": "code",
   "execution_count": 24,
   "id": "1c411cff",
   "metadata": {},
   "outputs": [
    {
     "data": {
      "text/plain": [
       "0         10+ years\n",
       "1           4 years\n",
       "2          < 1 year\n",
       "3           6 years\n",
       "4           9 years\n",
       "            ...    \n",
       "396025      2 years\n",
       "396026      5 years\n",
       "396027    10+ years\n",
       "396028    10+ years\n",
       "396029    10+ years\n",
       "Name: emp_length, Length: 396030, dtype: object"
      ]
     },
     "execution_count": 24,
     "metadata": {},
     "output_type": "execute_result"
    }
   ],
   "source": [
    "loan_data['emp_length']"
   ]
  },
  {
   "cell_type": "markdown",
   "id": "97ff16ff",
   "metadata": {},
   "source": [
    "**This still doesn't really inform us if there is a strong relationship between employment length and being charged off, what we want is the percentage of charge offs per category. Essentially informing us what percent of people per employment category didn't pay back their loan.**"
   ]
  },
  {
   "cell_type": "code",
   "execution_count": 25,
   "id": "23239df9",
   "metadata": {},
   "outputs": [],
   "source": [
    "emp_co = loan_data[loan_data['loan_status']=='Charged Off'].groupby('emp_length').count()['loan_status']\n",
    "emp_fp = loan_data[loan_data['loan_status']=='Fully Paid'].groupby('emp_length').count()['loan_status']"
   ]
  },
  {
   "cell_type": "code",
   "execution_count": 26,
   "id": "f7472b71",
   "metadata": {},
   "outputs": [],
   "source": [
    "emp_len = emp_co/emp_fp"
   ]
  },
  {
   "cell_type": "code",
   "execution_count": 27,
   "id": "87b9c938",
   "metadata": {},
   "outputs": [
    {
     "data": {
      "text/plain": [
       "emp_length\n",
       "1 year       0.248649\n",
       "10+ years    0.225770\n",
       "2 years      0.239560\n",
       "3 years      0.242593\n",
       "4 years      0.238213\n",
       "5 years      0.237911\n",
       "6 years      0.233341\n",
       "7 years      0.241887\n",
       "8 years      0.249625\n",
       "9 years      0.250735\n",
       "< 1 year     0.260830\n",
       "Name: loan_status, dtype: float64"
      ]
     },
     "execution_count": 27,
     "metadata": {},
     "output_type": "execute_result"
    }
   ],
   "source": [
    "emp_len"
   ]
  },
  {
   "cell_type": "code",
   "execution_count": 28,
   "id": "bb38066e",
   "metadata": {},
   "outputs": [
    {
     "data": {
      "text/plain": [
       "<AxesSubplot:xlabel='emp_length'>"
      ]
     },
     "execution_count": 28,
     "metadata": {},
     "output_type": "execute_result"
    },
    {
     "data": {
      "image/png": "[encoded data removed]",
      "text/plain": [
       "<Figure size 432x288 with 1 Axes>"
      ]
     },
     "metadata": {
      "needs_background": "light"
     },
     "output_type": "display_data"
    }
   ],
   "source": [
    "emp_len.plot(kind = 'bar')"
   ]
  },
  {
   "cell_type": "markdown",
   "id": "930bb871",
   "metadata": {},
   "source": [
    "*Charge off rates are extremely similar across all employment lengths. Thus, let's drop emp_length column.*"
   ]
  },
  {
   "cell_type": "code",
   "execution_count": 29,
   "id": "77f84be6",
   "metadata": {},
   "outputs": [],
   "source": [
    "loan_data = loan_data.drop('emp_length', axis = 1)"
   ]
  },
  {
   "cell_type": "code",
   "execution_count": 30,
   "id": "3e7bfb25",
   "metadata": {},
   "outputs": [
    {
     "name": "stdout",
     "output_type": "stream",
     "text": [
      "<class 'pandas.core.frame.DataFrame'>\n",
      "RangeIndex: 396030 entries, 0 to 396029\n",
      "Data columns (total 25 columns):\n",
      " #   Column                Non-Null Count   Dtype  \n",
      "---  ------                --------------   -----  \n",
      " 0   loan_amnt             396030 non-null  float64\n",
      " 1   term                  396030 non-null  object \n",
      " 2   int_rate              396030 non-null  float64\n",
      " 3   installment           396030 non-null  float64\n",
      " 4   grade                 396030 non-null  object \n",
      " 5   sub_grade             396030 non-null  object \n",
      " 6   home_ownership        396030 non-null  object \n",
      " 7   annual_inc            396030 non-null  float64\n",
      " 8   verification_status   396030 non-null  object \n",
      " 9   issue_d               396030 non-null  object \n",
      " 10  loan_status           396030 non-null  object \n",
      " 11  purpose               396030 non-null  object \n",
      " 12  title                 394275 non-null  object \n",
      " 13  dti                   396030 non-null  float64\n",
      " 14  earliest_cr_line      396030 non-null  object \n",
      " 15  open_acc              396030 non-null  float64\n",
      " 16  pub_rec               396030 non-null  float64\n",
      " 17  revol_bal             396030 non-null  float64\n",
      " 18  revol_util            395754 non-null  float64\n",
      " 19  total_acc             396030 non-null  float64\n",
      " 20  initial_list_status   396030 non-null  object \n",
      " 21  application_type      396030 non-null  object \n",
      " 22  mort_acc              358235 non-null  float64\n",
      " 23  pub_rec_bankruptcies  395495 non-null  float64\n",
      " 24  address               396030 non-null  object \n",
      "dtypes: float64(12), object(13)\n",
      "memory usage: 75.5+ MB\n"
     ]
    }
   ],
   "source": [
    "loan_data.info()"
   ]
  },
  {
   "cell_type": "code",
   "execution_count": 31,
   "id": "1b35bdd1",
   "metadata": {},
   "outputs": [
    {
     "data": {
      "text/plain": [
       "<AxesSubplot:>"
      ]
     },
     "execution_count": 31,
     "metadata": {},
     "output_type": "execute_result"
    },
    {
     "data": {
      "image/png": "[encoded data removed]",
      "text/plain": [
       "<Figure size 864x576 with 1 Axes>"
      ]
     },
     "metadata": {
      "needs_background": "light"
     },
     "output_type": "display_data"
    }
   ],
   "source": [
    "plt.figure(figsize = (12,8))\n",
    "sns.heatmap(loan_data.isna(), yticklabels = False, cbar = False, cmap = 'viridis')"
   ]
  },
  {
   "cell_type": "markdown",
   "id": "5441c08d",
   "metadata": {},
   "source": [
    "### *3) title*"
   ]
  },
  {
   "cell_type": "code",
   "execution_count": 32,
   "id": "5b3c85e6",
   "metadata": {},
   "outputs": [
    {
     "data": {
      "text/plain": [
       "48817"
      ]
     },
     "execution_count": 32,
     "metadata": {},
     "output_type": "execute_result"
    }
   ],
   "source": [
    "loan_data['title'].nunique()"
   ]
  },
  {
   "cell_type": "code",
   "execution_count": 33,
   "id": "93efe004",
   "metadata": {},
   "outputs": [
    {
     "data": {
      "text/html": [
       "<div>\n",
       "<style scoped>\n",
       "    .dataframe tbody tr th:only-of-type {\n",
       "        vertical-align: middle;\n",
       "    }\n",
       "\n",
       "    .dataframe tbody tr th {\n",
       "        vertical-align: top;\n",
       "    }\n",
       "\n",
       "    .dataframe thead th {\n",
       "        text-align: right;\n",
       "    }\n",
       "</style>\n",
       "<table border=\"1\" class=\"dataframe\">\n",
       "  <thead>\n",
       "    <tr style=\"text-align: right;\">\n",
       "      <th></th>\n",
       "      <th>title</th>\n",
       "      <th>purpose</th>\n",
       "    </tr>\n",
       "  </thead>\n",
       "  <tbody>\n",
       "    <tr>\n",
       "      <th>0</th>\n",
       "      <td>Vacation</td>\n",
       "      <td>vacation</td>\n",
       "    </tr>\n",
       "    <tr>\n",
       "      <th>1</th>\n",
       "      <td>Debt consolidation</td>\n",
       "      <td>debt_consolidation</td>\n",
       "    </tr>\n",
       "    <tr>\n",
       "      <th>2</th>\n",
       "      <td>Credit card refinancing</td>\n",
       "      <td>credit_card</td>\n",
       "    </tr>\n",
       "    <tr>\n",
       "      <th>3</th>\n",
       "      <td>Credit card refinancing</td>\n",
       "      <td>credit_card</td>\n",
       "    </tr>\n",
       "    <tr>\n",
       "      <th>4</th>\n",
       "      <td>Credit Card Refinance</td>\n",
       "      <td>credit_card</td>\n",
       "    </tr>\n",
       "  </tbody>\n",
       "</table>\n",
       "</div>"
      ],
      "text/plain": [
       "                     title             purpose\n",
       "0                 Vacation            vacation\n",
       "1       Debt consolidation  debt_consolidation\n",
       "2  Credit card refinancing         credit_card\n",
       "3  Credit card refinancing         credit_card\n",
       "4    Credit Card Refinance         credit_card"
      ]
     },
     "execution_count": 33,
     "metadata": {},
     "output_type": "execute_result"
    }
   ],
   "source": [
    "loan_data[['title', 'purpose']].head()"
   ]
  },
  {
   "cell_type": "markdown",
   "id": "3e015c84",
   "metadata": {},
   "source": [
    "*We can notice the similarity of purpose and title, thus we will drop the title column from our dataset.*"
   ]
  },
  {
   "cell_type": "code",
   "execution_count": 34,
   "id": "51c469bd",
   "metadata": {},
   "outputs": [],
   "source": [
    "loan_data = loan_data.drop('title', axis = 1)"
   ]
  },
  {
   "cell_type": "markdown",
   "id": "047d69f4",
   "metadata": {},
   "source": [
    "### *4) mort_acc*"
   ]
  },
  {
   "cell_type": "code",
   "execution_count": 35,
   "id": "52595fca",
   "metadata": {},
   "outputs": [
    {
     "data": {
      "text/plain": [
       "0.0     139777\n",
       "1.0      60416\n",
       "2.0      49948\n",
       "3.0      38049\n",
       "4.0      27887\n",
       "5.0      18194\n",
       "6.0      11069\n",
       "7.0       6052\n",
       "8.0       3121\n",
       "9.0       1656\n",
       "10.0       865\n",
       "11.0       479\n",
       "12.0       264\n",
       "13.0       146\n",
       "14.0       107\n",
       "15.0        61\n",
       "16.0        37\n",
       "17.0        22\n",
       "18.0        18\n",
       "19.0        15\n",
       "20.0        13\n",
       "24.0        10\n",
       "22.0         7\n",
       "21.0         4\n",
       "25.0         4\n",
       "27.0         3\n",
       "32.0         2\n",
       "31.0         2\n",
       "23.0         2\n",
       "26.0         2\n",
       "28.0         1\n",
       "30.0         1\n",
       "34.0         1\n",
       "Name: mort_acc, dtype: int64"
      ]
     },
     "execution_count": 35,
     "metadata": {},
     "output_type": "execute_result"
    }
   ],
   "source": [
    "loan_data['mort_acc'].value_counts()"
   ]
  },
  {
   "cell_type": "markdown",
   "id": "498ab651",
   "metadata": {},
   "source": [
    "*We would attempt to build a simple model to fill it in, such as a linear model, we could just fill it in based on the mean of the other columns. Let's review the other columns to see which most highly correlates to mort_acc*"
   ]
  },
  {
   "cell_type": "code",
   "execution_count": 36,
   "id": "dc1db4ac",
   "metadata": {},
   "outputs": [
    {
     "name": "stdout",
     "output_type": "stream",
     "text": [
      "Correlation with the mort_acc column\n"
     ]
    },
    {
     "data": {
      "text/plain": [
       "int_rate               -0.082583\n",
       "dti                    -0.025439\n",
       "revol_util              0.007514\n",
       "pub_rec                 0.011552\n",
       "pub_rec_bankruptcies    0.027239\n",
       "open_acc                0.109205\n",
       "installment             0.193694\n",
       "revol_bal               0.194925\n",
       "loan_amnt               0.222315\n",
       "annual_inc              0.236320\n",
       "total_acc               0.381072\n",
       "mort_acc                1.000000\n",
       "Name: mort_acc, dtype: float64"
      ]
     },
     "execution_count": 36,
     "metadata": {},
     "output_type": "execute_result"
    }
   ],
   "source": [
    "print(\"Correlation with the mort_acc column\")\n",
    "loan_data.corr()['mort_acc'].sort_values()"
   ]
  },
  {
   "cell_type": "markdown",
   "id": "56fbfc08",
   "metadata": {},
   "source": [
    "*Looks like the total_acc feature correlates with the mort_acc , this makes sense! Let's try this fillna() approach. We will group the dataframe by the total_acc and calculate the mean value for the mort_acc per total_acc entry. To get the result below:*"
   ]
  },
  {
   "cell_type": "code",
   "execution_count": 37,
   "id": "8a5a1dff",
   "metadata": {},
   "outputs": [
    {
     "name": "stdout",
     "output_type": "stream",
     "text": [
      "Mean of mort_acc column per total_acc\n"
     ]
    },
    {
     "data": {
      "text/plain": [
       "total_acc\n",
       "2.0      0.000000\n",
       "3.0      0.052023\n",
       "4.0      0.066743\n",
       "5.0      0.103289\n",
       "6.0      0.151293\n",
       "           ...   \n",
       "124.0    1.000000\n",
       "129.0    1.000000\n",
       "135.0    3.000000\n",
       "150.0    2.000000\n",
       "151.0    0.000000\n",
       "Name: mort_acc, Length: 118, dtype: float64"
      ]
     },
     "execution_count": 37,
     "metadata": {},
     "output_type": "execute_result"
    }
   ],
   "source": [
    "print(\"Mean of mort_acc column per total_acc\")\n",
    "loan_data.groupby('total_acc').mean()['mort_acc']"
   ]
  },
  {
   "cell_type": "markdown",
   "id": "42bd27d7",
   "metadata": {},
   "source": [
    "*Let's fill in the missing mort_acc values based on their total_acc value. If the mort_acc is missing, then we will fill in that missing value with the mean value corresponding to its total_acc value from the Series we created above.*"
   ]
  },
  {
   "cell_type": "code",
   "execution_count": 38,
   "id": "129dea39",
   "metadata": {},
   "outputs": [],
   "source": [
    "total_acc_avg = loan_data.groupby('total_acc').mean()['mort_acc']"
   ]
  },
  {
   "cell_type": "code",
   "execution_count": 39,
   "id": "6b2123c7",
   "metadata": {},
   "outputs": [
    {
     "data": {
      "text/plain": [
       "0.0"
      ]
     },
     "execution_count": 39,
     "metadata": {},
     "output_type": "execute_result"
    }
   ],
   "source": [
    "total_acc_avg[2.0]"
   ]
  },
  {
   "cell_type": "code",
   "execution_count": 40,
   "id": "d4b968cf",
   "metadata": {},
   "outputs": [],
   "source": [
    "def fill_mort_acc(total_acc,mort_acc):\n",
    "    '''\n",
    "    Accepts the total_acc and mort_acc values for the row.\n",
    "    Checks if the mort_acc is NaN , if so, it returns the avg mort_acc value\n",
    "    for the corresponding total_acc value for that row.\n",
    "    \n",
    "    total_acc_avg here should be a Series or dictionary containing the mapping of the\n",
    "    groupby averages of mort_acc per total_acc values.\n",
    "    '''\n",
    "    if np.isnan(mort_acc):\n",
    "        return total_acc_avg[total_acc]\n",
    "    else:\n",
    "        return mort_acc"
   ]
  },
  {
   "cell_type": "code",
   "execution_count": 41,
   "id": "5caf25b4",
   "metadata": {},
   "outputs": [],
   "source": [
    "loan_data['mort_acc'] = loan_data.apply(lambda x: fill_mort_acc(x['total_acc'], x['mort_acc']), axis=1)"
   ]
  },
  {
   "cell_type": "code",
   "execution_count": 42,
   "id": "8d91fa8b",
   "metadata": {},
   "outputs": [
    {
     "data": {
      "text/plain": [
       "loan_amnt                 0\n",
       "term                      0\n",
       "int_rate                  0\n",
       "installment               0\n",
       "grade                     0\n",
       "sub_grade                 0\n",
       "home_ownership            0\n",
       "annual_inc                0\n",
       "verification_status       0\n",
       "issue_d                   0\n",
       "loan_status               0\n",
       "purpose                   0\n",
       "dti                       0\n",
       "earliest_cr_line          0\n",
       "open_acc                  0\n",
       "pub_rec                   0\n",
       "revol_bal                 0\n",
       "revol_util              276\n",
       "total_acc                 0\n",
       "initial_list_status       0\n",
       "application_type          0\n",
       "mort_acc                  0\n",
       "pub_rec_bankruptcies    535\n",
       "address                   0\n",
       "dtype: int64"
      ]
     },
     "execution_count": 42,
     "metadata": {},
     "output_type": "execute_result"
    }
   ],
   "source": [
    "loan_data.isnull().sum()"
   ]
  },
  {
   "cell_type": "markdown",
   "id": "810f88dc",
   "metadata": {},
   "source": [
    "### *5,6) revol_util, pub_rec_bancruptcies*"
   ]
  },
  {
   "cell_type": "code",
   "execution_count": 43,
   "id": "a495ec0a",
   "metadata": {},
   "outputs": [
    {
     "data": {
      "text/plain": [
       "loan_amnt               0.000000\n",
       "term                    0.000000\n",
       "int_rate                0.000000\n",
       "installment             0.000000\n",
       "grade                   0.000000\n",
       "sub_grade               0.000000\n",
       "home_ownership          0.000000\n",
       "annual_inc              0.000000\n",
       "verification_status     0.000000\n",
       "issue_d                 0.000000\n",
       "loan_status             0.000000\n",
       "purpose                 0.000000\n",
       "dti                     0.000000\n",
       "earliest_cr_line        0.000000\n",
       "open_acc                0.000000\n",
       "pub_rec                 0.000000\n",
       "revol_bal               0.000000\n",
       "revol_util              0.069692\n",
       "total_acc               0.000000\n",
       "initial_list_status     0.000000\n",
       "application_type        0.000000\n",
       "mort_acc                0.000000\n",
       "pub_rec_bankruptcies    0.135091\n",
       "address                 0.000000\n",
       "dtype: float64"
      ]
     },
     "execution_count": 43,
     "metadata": {},
     "output_type": "execute_result"
    }
   ],
   "source": [
    "loan_data.isnull().sum()/len(loan_data)*100"
   ]
  },
  {
   "cell_type": "markdown",
   "id": "8fcfe628",
   "metadata": {},
   "source": [
    "*revol_util and the pub_rec_bankruptcies have missing data points, but they account for less than 0.5% of the total data. We will remove the rows that are missing those values in those columns with dropna().*"
   ]
  },
  {
   "cell_type": "code",
   "execution_count": 44,
   "id": "ee55543a",
   "metadata": {},
   "outputs": [],
   "source": [
    "loan_data = loan_data.dropna()"
   ]
  },
  {
   "cell_type": "code",
   "execution_count": 45,
   "id": "12fdfacf",
   "metadata": {},
   "outputs": [
    {
     "data": {
      "text/plain": [
       "loan_amnt               0\n",
       "term                    0\n",
       "int_rate                0\n",
       "installment             0\n",
       "grade                   0\n",
       "sub_grade               0\n",
       "home_ownership          0\n",
       "annual_inc              0\n",
       "verification_status     0\n",
       "issue_d                 0\n",
       "loan_status             0\n",
       "purpose                 0\n",
       "dti                     0\n",
       "earliest_cr_line        0\n",
       "open_acc                0\n",
       "pub_rec                 0\n",
       "revol_bal               0\n",
       "revol_util              0\n",
       "total_acc               0\n",
       "initial_list_status     0\n",
       "application_type        0\n",
       "mort_acc                0\n",
       "pub_rec_bankruptcies    0\n",
       "address                 0\n",
       "dtype: int64"
      ]
     },
     "execution_count": 45,
     "metadata": {},
     "output_type": "execute_result"
    }
   ],
   "source": [
    "loan_data.isnull().sum()"
   ]
  },
  {
   "cell_type": "markdown",
   "id": "6024319e",
   "metadata": {},
   "source": [
    "## Categorical Variables\n",
    "\n",
    "**We're done working with the missing data! Now we just need to deal with the string values due to the categorical columns.**"
   ]
  },
  {
   "cell_type": "code",
   "execution_count": 46,
   "id": "eb8d4174",
   "metadata": {},
   "outputs": [
    {
     "name": "stdout",
     "output_type": "stream",
     "text": [
      "<class 'pandas.core.frame.DataFrame'>\n",
      "Int64Index: 395219 entries, 0 to 396029\n",
      "Data columns (total 24 columns):\n",
      " #   Column                Non-Null Count   Dtype  \n",
      "---  ------                --------------   -----  \n",
      " 0   loan_amnt             395219 non-null  float64\n",
      " 1   term                  395219 non-null  object \n",
      " 2   int_rate              395219 non-null  float64\n",
      " 3   installment           395219 non-null  float64\n",
      " 4   grade                 395219 non-null  object \n",
      " 5   sub_grade             395219 non-null  object \n",
      " 6   home_ownership        395219 non-null  object \n",
      " 7   annual_inc            395219 non-null  float64\n",
      " 8   verification_status   395219 non-null  object \n",
      " 9   issue_d               395219 non-null  object \n",
      " 10  loan_status           395219 non-null  object \n",
      " 11  purpose               395219 non-null  object \n",
      " 12  dti                   395219 non-null  float64\n",
      " 13  earliest_cr_line      395219 non-null  object \n",
      " 14  open_acc              395219 non-null  float64\n",
      " 15  pub_rec               395219 non-null  float64\n",
      " 16  revol_bal             395219 non-null  float64\n",
      " 17  revol_util            395219 non-null  float64\n",
      " 18  total_acc             395219 non-null  float64\n",
      " 19  initial_list_status   395219 non-null  object \n",
      " 20  application_type      395219 non-null  object \n",
      " 21  mort_acc              395219 non-null  float64\n",
      " 22  pub_rec_bankruptcies  395219 non-null  float64\n",
      " 23  address               395219 non-null  object \n",
      "dtypes: float64(12), object(12)\n",
      "memory usage: 75.4+ MB\n"
     ]
    }
   ],
   "source": [
    "loan_data.info()"
   ]
  },
  {
   "cell_type": "markdown",
   "id": "2f5beec6",
   "metadata": {},
   "source": [
    "### Overall, these feature columns contain categorical values:\n",
    "* term\n",
    "* grade\n",
    "* sub_grade\n",
    "* home_ownership\n",
    "* verification_status\n",
    "* issue_d\n",
    "* loan_status*\n",
    "* purpose\n",
    "* earliest_cr_line\n",
    "* initial_list_status\n",
    "* application_type\n",
    "* adress"
   ]
  },
  {
   "cell_type": "code",
   "execution_count": 47,
   "id": "9f36c55c",
   "metadata": {},
   "outputs": [
    {
     "data": {
      "text/plain": [
       "Index(['term', 'grade', 'sub_grade', 'home_ownership', 'verification_status',\n",
       "       'issue_d', 'loan_status', 'purpose', 'earliest_cr_line',\n",
       "       'initial_list_status', 'application_type', 'address'],\n",
       "      dtype='object')"
      ]
     },
     "execution_count": 47,
     "metadata": {},
     "output_type": "execute_result"
    }
   ],
   "source": [
    "loan_data.select_dtypes(['object']).columns"
   ]
  },
  {
   "cell_type": "markdown",
   "id": "37ab17c0",
   "metadata": {},
   "source": [
    "### *1) term*"
   ]
  },
  {
   "cell_type": "code",
   "execution_count": 48,
   "id": "5bbd5ea4",
   "metadata": {},
   "outputs": [
    {
     "data": {
      "text/plain": [
       " 36 months    301247\n",
       " 60 months     93972\n",
       "Name: term, dtype: int64"
      ]
     },
     "execution_count": 48,
     "metadata": {},
     "output_type": "execute_result"
    }
   ],
   "source": [
    "loan_data['term'].value_counts()"
   ]
  },
  {
   "cell_type": "code",
   "execution_count": 49,
   "id": "415fa9f9",
   "metadata": {},
   "outputs": [],
   "source": [
    "loan_data['term'] = loan_data['term'].apply(lambda term: int(term[:3]))"
   ]
  },
  {
   "cell_type": "code",
   "execution_count": 50,
   "id": "3a474321",
   "metadata": {},
   "outputs": [
    {
     "name": "stdout",
     "output_type": "stream",
     "text": [
      "<class 'pandas.core.frame.DataFrame'>\n",
      "Int64Index: 395219 entries, 0 to 396029\n",
      "Data columns (total 24 columns):\n",
      " #   Column                Non-Null Count   Dtype  \n",
      "---  ------                --------------   -----  \n",
      " 0   loan_amnt             395219 non-null  float64\n",
      " 1   term                  395219 non-null  int64  \n",
      " 2   int_rate              395219 non-null  float64\n",
      " 3   installment           395219 non-null  float64\n",
      " 4   grade                 395219 non-null  object \n",
      " 5   sub_grade             395219 non-null  object \n",
      " 6   home_ownership        395219 non-null  object \n",
      " 7   annual_inc            395219 non-null  float64\n",
      " 8   verification_status   395219 non-null  object \n",
      " 9   issue_d               395219 non-null  object \n",
      " 10  loan_status           395219 non-null  object \n",
      " 11  purpose               395219 non-null  object \n",
      " 12  dti                   395219 non-null  float64\n",
      " 13  earliest_cr_line      395219 non-null  object \n",
      " 14  open_acc              395219 non-null  float64\n",
      " 15  pub_rec               395219 non-null  float64\n",
      " 16  revol_bal             395219 non-null  float64\n",
      " 17  revol_util            395219 non-null  float64\n",
      " 18  total_acc             395219 non-null  float64\n",
      " 19  initial_list_status   395219 non-null  object \n",
      " 20  application_type      395219 non-null  object \n",
      " 21  mort_acc              395219 non-null  float64\n",
      " 22  pub_rec_bankruptcies  395219 non-null  float64\n",
      " 23  address               395219 non-null  object \n",
      "dtypes: float64(12), int64(1), object(11)\n",
      "memory usage: 75.4+ MB\n"
     ]
    }
   ],
   "source": [
    "loan_data.info()"
   ]
  },
  {
   "cell_type": "markdown",
   "id": "3d799d00",
   "metadata": {},
   "source": [
    "### *2) grade*"
   ]
  },
  {
   "cell_type": "markdown",
   "id": "0b9ad383",
   "metadata": {},
   "source": [
    "**We already know grade is part of sub_grade, so we will just drop the grade feature.**"
   ]
  },
  {
   "cell_type": "code",
   "execution_count": 51,
   "id": "b56aee73",
   "metadata": {},
   "outputs": [],
   "source": [
    "loan_data = loan_data.drop('grade',axis=1)"
   ]
  },
  {
   "cell_type": "code",
   "execution_count": 52,
   "id": "08f28882",
   "metadata": {},
   "outputs": [
    {
     "data": {
      "text/plain": [
       "B3    26611\n",
       "B4    25558\n",
       "C1    23609\n",
       "C2    22541\n",
       "B2    22457\n",
       "B5    22046\n",
       "C3    21178\n",
       "C4    20232\n",
       "B1    19140\n",
       "A5    18500\n",
       "C5    18215\n",
       "D1    15947\n",
       "A4    15763\n",
       "D2    13916\n",
       "D3    12196\n",
       "D4    11625\n",
       "A3    10537\n",
       "A1     9717\n",
       "D5     9680\n",
       "A2     9539\n",
       "E1     7906\n",
       "E2     7410\n",
       "E3     6196\n",
       "E4     5354\n",
       "E5     4561\n",
       "F1     3530\n",
       "F2     2756\n",
       "F3     2277\n",
       "F4     1782\n",
       "F5     1395\n",
       "G1     1057\n",
       "G2      752\n",
       "G3      552\n",
       "G4      371\n",
       "G5      313\n",
       "Name: sub_grade, dtype: int64"
      ]
     },
     "execution_count": 52,
     "metadata": {},
     "output_type": "execute_result"
    }
   ],
   "source": [
    "loan_data['sub_grade'].value_counts()"
   ]
  },
  {
   "cell_type": "markdown",
   "id": "897a855c",
   "metadata": {},
   "source": [
    "*We can convert sugrade into dummies. However, the list of object values can be transform into a integer values. The grades are ['A','B','C','D','E'] and every grade has its subgrade which is represented with number in range from 1 to 5. Thus, in total, there are 35 unique object values. We will tranform them into integer values from 0 to 34 and the model will recognize them as the values has monotonous behavior.*"
   ]
  },
  {
   "cell_type": "code",
   "execution_count": 53,
   "id": "1f25f08d",
   "metadata": {},
   "outputs": [
    {
     "data": {
      "text/plain": [
       "['A1',\n",
       " 'A2',\n",
       " 'A3',\n",
       " 'A4',\n",
       " 'A5',\n",
       " 'B1',\n",
       " 'B2',\n",
       " 'B3',\n",
       " 'B4',\n",
       " 'B5',\n",
       " 'C1',\n",
       " 'C2',\n",
       " 'C3',\n",
       " 'C4',\n",
       " 'C5',\n",
       " 'D1',\n",
       " 'D2',\n",
       " 'D3',\n",
       " 'D4',\n",
       " 'D5',\n",
       " 'E1',\n",
       " 'E2',\n",
       " 'E3',\n",
       " 'E4',\n",
       " 'E5',\n",
       " 'F1',\n",
       " 'F2',\n",
       " 'F3',\n",
       " 'F4',\n",
       " 'F5',\n",
       " 'G1',\n",
       " 'G2',\n",
       " 'G3',\n",
       " 'G4',\n",
       " 'G5']"
      ]
     },
     "execution_count": 53,
     "metadata": {},
     "output_type": "execute_result"
    }
   ],
   "source": [
    "subgrade_keys = sorted(loan_data['sub_grade'].unique())\n",
    "subgrade_keys"
   ]
  },
  {
   "cell_type": "code",
   "execution_count": 54,
   "id": "a242b6f0",
   "metadata": {},
   "outputs": [],
   "source": [
    "subgrade_values = [i for i in range(len(subgrade_keys))]\n",
    "subgrade_dic = {subgrade_keys[i]: subgrade_values[i] for i in range(len(subgrade_keys))}\n",
    "loan_data = loan_data.replace({'sub_grade': subgrade_dic})"
   ]
  },
  {
   "cell_type": "code",
   "execution_count": 55,
   "id": "62b7379b",
   "metadata": {},
   "outputs": [],
   "source": [
    "#subgrade_dummies = pd.get_dummies(loan_data['sub_grade'], drop_first = True)\n",
    "#loan_data = pd.concat([loan_data.drop('sub_grade', axis = 1), subgrade_dummies], axis = 1)\n",
    "#loan_data.columns\n",
    "\n",
    "#outpout:\n",
    "#Index(['loan_amnt', 'term', 'int_rate', 'installment', 'home_ownership',\n",
    "#       'annual_inc', 'verification_status', 'issue_d', 'loan_status',\n",
    "#       'purpose', 'dti', 'earliest_cr_line', 'open_acc', 'pub_rec',\n",
    "#       'revol_bal', 'revol_util', 'total_acc', 'initial_list_status',\n",
    "#       'application_type', 'mort_acc', 'pub_rec_bankruptcies', 'address',\n",
    "#       'loan_repaid', 'A2', 'A3', 'A4', 'A5', 'B1', 'B2', 'B3', 'B4', 'B5',\n",
    "#       'C1', 'C2', 'C3', 'C4', 'C5', 'D1', 'D2', 'D3', 'D4', 'D5', 'E1', 'E2',\n",
    "#       'E3', 'E4', 'E5', 'F1', 'F2', 'F3', 'F4', 'F5', 'G1', 'G2', 'G3', 'G4',\n",
    "#       'G5'],\n",
    "#      dtype='object')"
   ]
  },
  {
   "cell_type": "markdown",
   "id": "804e6ac4",
   "metadata": {},
   "source": [
    "*Obiously, adding so many features (35) to model our data, can affect the precission of our prediction. Thus, we will stick with the representation of the numerical values.*"
   ]
  },
  {
   "cell_type": "code",
   "execution_count": 56,
   "id": "f4929970",
   "metadata": {},
   "outputs": [
    {
     "data": {
      "text/plain": [
       "7     26611\n",
       "8     25558\n",
       "10    23609\n",
       "11    22541\n",
       "6     22457\n",
       "9     22046\n",
       "12    21178\n",
       "13    20232\n",
       "5     19140\n",
       "4     18500\n",
       "14    18215\n",
       "15    15947\n",
       "3     15763\n",
       "16    13916\n",
       "17    12196\n",
       "18    11625\n",
       "2     10537\n",
       "0      9717\n",
       "19     9680\n",
       "1      9539\n",
       "20     7906\n",
       "21     7410\n",
       "22     6196\n",
       "23     5354\n",
       "24     4561\n",
       "25     3530\n",
       "26     2756\n",
       "27     2277\n",
       "28     1782\n",
       "29     1395\n",
       "30     1057\n",
       "31      752\n",
       "32      552\n",
       "33      371\n",
       "34      313\n",
       "Name: sub_grade, dtype: int64"
      ]
     },
     "execution_count": 56,
     "metadata": {},
     "output_type": "execute_result"
    }
   ],
   "source": [
    "loan_data['sub_grade'].value_counts()"
   ]
  },
  {
   "cell_type": "code",
   "execution_count": 57,
   "id": "f7397437",
   "metadata": {},
   "outputs": [
    {
     "name": "stdout",
     "output_type": "stream",
     "text": [
      "<class 'pandas.core.frame.DataFrame'>\n",
      "Int64Index: 395219 entries, 0 to 396029\n",
      "Data columns (total 23 columns):\n",
      " #   Column                Non-Null Count   Dtype  \n",
      "---  ------                --------------   -----  \n",
      " 0   loan_amnt             395219 non-null  float64\n",
      " 1   term                  395219 non-null  int64  \n",
      " 2   int_rate              395219 non-null  float64\n",
      " 3   installment           395219 non-null  float64\n",
      " 4   sub_grade             395219 non-null  int64  \n",
      " 5   home_ownership        395219 non-null  object \n",
      " 6   annual_inc            395219 non-null  float64\n",
      " 7   verification_status   395219 non-null  object \n",
      " 8   issue_d               395219 non-null  object \n",
      " 9   loan_status           395219 non-null  object \n",
      " 10  purpose               395219 non-null  object \n",
      " 11  dti                   395219 non-null  float64\n",
      " 12  earliest_cr_line      395219 non-null  object \n",
      " 13  open_acc              395219 non-null  float64\n",
      " 14  pub_rec               395219 non-null  float64\n",
      " 15  revol_bal             395219 non-null  float64\n",
      " 16  revol_util            395219 non-null  float64\n",
      " 17  total_acc             395219 non-null  float64\n",
      " 18  initial_list_status   395219 non-null  object \n",
      " 19  application_type      395219 non-null  object \n",
      " 20  mort_acc              395219 non-null  float64\n",
      " 21  pub_rec_bankruptcies  395219 non-null  float64\n",
      " 22  address               395219 non-null  object \n",
      "dtypes: float64(12), int64(2), object(9)\n",
      "memory usage: 72.4+ MB\n"
     ]
    }
   ],
   "source": [
    "loan_data.info()"
   ]
  },
  {
   "cell_type": "markdown",
   "id": "fd2e4383",
   "metadata": {},
   "source": [
    "### *3) verification_status*\n",
    "### *4) application_type*\n",
    "### *5) initial_list_status*\n",
    "### *6) purpose*"
   ]
  },
  {
   "cell_type": "markdown",
   "id": "4d006b87",
   "metadata": {},
   "source": [
    "*We will convert these columns: ['verification_status', 'application_type','initial_list_status','purpose'] into dummy variables and concatenate them with the original dataframe.*"
   ]
  },
  {
   "cell_type": "code",
   "execution_count": 58,
   "id": "1eec082b",
   "metadata": {},
   "outputs": [],
   "source": [
    "dummies = pd.get_dummies(loan_data[['verification_status', 'application_type', 'initial_list_status', 'purpose']], drop_first = True)\n",
    "loan_data = loan_data.drop(['verification_status', 'application_type', 'initial_list_status', 'purpose'], axis = 1)\n",
    "loan_data = pd.concat([loan_data, dummies], axis = 1)"
   ]
  },
  {
   "cell_type": "code",
   "execution_count": 59,
   "id": "0029edd9",
   "metadata": {},
   "outputs": [
    {
     "name": "stdout",
     "output_type": "stream",
     "text": [
      "<class 'pandas.core.frame.DataFrame'>\n",
      "Int64Index: 395219 entries, 0 to 396029\n",
      "Data columns (total 37 columns):\n",
      " #   Column                               Non-Null Count   Dtype  \n",
      "---  ------                               --------------   -----  \n",
      " 0   loan_amnt                            395219 non-null  float64\n",
      " 1   term                                 395219 non-null  int64  \n",
      " 2   int_rate                             395219 non-null  float64\n",
      " 3   installment                          395219 non-null  float64\n",
      " 4   sub_grade                            395219 non-null  int64  \n",
      " 5   home_ownership                       395219 non-null  object \n",
      " 6   annual_inc                           395219 non-null  float64\n",
      " 7   issue_d                              395219 non-null  object \n",
      " 8   loan_status                          395219 non-null  object \n",
      " 9   dti                                  395219 non-null  float64\n",
      " 10  earliest_cr_line                     395219 non-null  object \n",
      " 11  open_acc                             395219 non-null  float64\n",
      " 12  pub_rec                              395219 non-null  float64\n",
      " 13  revol_bal                            395219 non-null  float64\n",
      " 14  revol_util                           395219 non-null  float64\n",
      " 15  total_acc                            395219 non-null  float64\n",
      " 16  mort_acc                             395219 non-null  float64\n",
      " 17  pub_rec_bankruptcies                 395219 non-null  float64\n",
      " 18  address                              395219 non-null  object \n",
      " 19  verification_status_Source Verified  395219 non-null  uint8  \n",
      " 20  verification_status_Verified         395219 non-null  uint8  \n",
      " 21  application_type_INDIVIDUAL          395219 non-null  uint8  \n",
      " 22  application_type_JOINT               395219 non-null  uint8  \n",
      " 23  initial_list_status_w                395219 non-null  uint8  \n",
      " 24  purpose_credit_card                  395219 non-null  uint8  \n",
      " 25  purpose_debt_consolidation           395219 non-null  uint8  \n",
      " 26  purpose_educational                  395219 non-null  uint8  \n",
      " 27  purpose_home_improvement             395219 non-null  uint8  \n",
      " 28  purpose_house                        395219 non-null  uint8  \n",
      " 29  purpose_major_purchase               395219 non-null  uint8  \n",
      " 30  purpose_medical                      395219 non-null  uint8  \n",
      " 31  purpose_moving                       395219 non-null  uint8  \n",
      " 32  purpose_other                        395219 non-null  uint8  \n",
      " 33  purpose_renewable_energy             395219 non-null  uint8  \n",
      " 34  purpose_small_business               395219 non-null  uint8  \n",
      " 35  purpose_vacation                     395219 non-null  uint8  \n",
      " 36  purpose_wedding                      395219 non-null  uint8  \n",
      "dtypes: float64(12), int64(2), object(5), uint8(18)\n",
      "memory usage: 67.1+ MB\n"
     ]
    }
   ],
   "source": [
    "loan_data.info()"
   ]
  },
  {
   "cell_type": "markdown",
   "id": "fcace2f5",
   "metadata": {},
   "source": [
    "### *7) home_ownership*"
   ]
  },
  {
   "cell_type": "code",
   "execution_count": 60,
   "id": "5d289192",
   "metadata": {},
   "outputs": [
    {
     "data": {
      "text/plain": [
       "MORTGAGE    198022\n",
       "RENT        159395\n",
       "OWN          37660\n",
       "OTHER          110\n",
       "NONE            29\n",
       "ANY              3\n",
       "Name: home_ownership, dtype: int64"
      ]
     },
     "execution_count": 60,
     "metadata": {},
     "output_type": "execute_result"
    }
   ],
   "source": [
    "loan_data['home_ownership'].value_counts()"
   ]
  },
  {
   "cell_type": "markdown",
   "id": "111728be",
   "metadata": {},
   "source": [
    "*We will convert these to dummy variables, but replace NONE and ANY with OTHER, so that we end up with just 4 categories, MORTGAGE, RENT, OWN, OTHER.*"
   ]
  },
  {
   "cell_type": "code",
   "execution_count": 61,
   "id": "d222d825",
   "metadata": {},
   "outputs": [],
   "source": [
    "loan_data['home_ownership'] = loan_data['home_ownership'].replace(['NONE', 'ANY'], 'OTHER')"
   ]
  },
  {
   "cell_type": "code",
   "execution_count": 62,
   "id": "2bacfbd2",
   "metadata": {},
   "outputs": [],
   "source": [
    "dummies = pd.get_dummies(loan_data['home_ownership'], drop_first = True)\n",
    "loan_data = loan_data.drop('home_ownership', axis = 1)\n",
    "loan_data = pd.concat([loan_data, dummies], axis = 1)"
   ]
  },
  {
   "cell_type": "code",
   "execution_count": 63,
   "id": "19eee557",
   "metadata": {},
   "outputs": [
    {
     "name": "stdout",
     "output_type": "stream",
     "text": [
      "<class 'pandas.core.frame.DataFrame'>\n",
      "Int64Index: 395219 entries, 0 to 396029\n",
      "Data columns (total 39 columns):\n",
      " #   Column                               Non-Null Count   Dtype  \n",
      "---  ------                               --------------   -----  \n",
      " 0   loan_amnt                            395219 non-null  float64\n",
      " 1   term                                 395219 non-null  int64  \n",
      " 2   int_rate                             395219 non-null  float64\n",
      " 3   installment                          395219 non-null  float64\n",
      " 4   sub_grade                            395219 non-null  int64  \n",
      " 5   annual_inc                           395219 non-null  float64\n",
      " 6   issue_d                              395219 non-null  object \n",
      " 7   loan_status                          395219 non-null  object \n",
      " 8   dti                                  395219 non-null  float64\n",
      " 9   earliest_cr_line                     395219 non-null  object \n",
      " 10  open_acc                             395219 non-null  float64\n",
      " 11  pub_rec                              395219 non-null  float64\n",
      " 12  revol_bal                            395219 non-null  float64\n",
      " 13  revol_util                           395219 non-null  float64\n",
      " 14  total_acc                            395219 non-null  float64\n",
      " 15  mort_acc                             395219 non-null  float64\n",
      " 16  pub_rec_bankruptcies                 395219 non-null  float64\n",
      " 17  address                              395219 non-null  object \n",
      " 18  verification_status_Source Verified  395219 non-null  uint8  \n",
      " 19  verification_status_Verified         395219 non-null  uint8  \n",
      " 20  application_type_INDIVIDUAL          395219 non-null  uint8  \n",
      " 21  application_type_JOINT               395219 non-null  uint8  \n",
      " 22  initial_list_status_w                395219 non-null  uint8  \n",
      " 23  purpose_credit_card                  395219 non-null  uint8  \n",
      " 24  purpose_debt_consolidation           395219 non-null  uint8  \n",
      " 25  purpose_educational                  395219 non-null  uint8  \n",
      " 26  purpose_home_improvement             395219 non-null  uint8  \n",
      " 27  purpose_house                        395219 non-null  uint8  \n",
      " 28  purpose_major_purchase               395219 non-null  uint8  \n",
      " 29  purpose_medical                      395219 non-null  uint8  \n",
      " 30  purpose_moving                       395219 non-null  uint8  \n",
      " 31  purpose_other                        395219 non-null  uint8  \n",
      " 32  purpose_renewable_energy             395219 non-null  uint8  \n",
      " 33  purpose_small_business               395219 non-null  uint8  \n",
      " 34  purpose_vacation                     395219 non-null  uint8  \n",
      " 35  purpose_wedding                      395219 non-null  uint8  \n",
      " 36  OTHER                                395219 non-null  uint8  \n",
      " 37  OWN                                  395219 non-null  uint8  \n",
      " 38  RENT                                 395219 non-null  uint8  \n",
      "dtypes: float64(12), int64(2), object(4), uint8(21)\n",
      "memory usage: 65.2+ MB\n"
     ]
    }
   ],
   "source": [
    "loan_data.info()"
   ]
  },
  {
   "cell_type": "markdown",
   "id": "5c40bceb",
   "metadata": {},
   "source": [
    "### *8) address*"
   ]
  },
  {
   "cell_type": "code",
   "execution_count": 64,
   "id": "424a48f0",
   "metadata": {},
   "outputs": [
    {
     "data": {
      "text/plain": [
       "0              0174 Michelle Gateway\\nMendozaberg, OK 22690\n",
       "1           1076 Carney Fort Apt. 347\\nLoganmouth, SD 05113\n",
       "2           87025 Mark Dale Apt. 269\\nNew Sabrina, WV 05113\n",
       "3                     823 Reid Ford\\nDelacruzside, MA 00813\n",
       "4                      679 Luna Roads\\nGreggshire, VA 11650\n",
       "                                ...                        \n",
       "396025       12951 Williams Crossing\\nJohnnyville, DC 30723\n",
       "396026    0114 Fowler Field Suite 028\\nRachelborough, LA...\n",
       "396027     953 Matthew Points Suite 414\\nReedfort, NY 70466\n",
       "396028    7843 Blake Freeway Apt. 229\\nNew Michael, FL 2...\n",
       "396029          787 Michelle Causeway\\nBriannaton, AR 48052\n",
       "Name: address, Length: 395219, dtype: object"
      ]
     },
     "execution_count": 64,
     "metadata": {},
     "output_type": "execute_result"
    }
   ],
   "source": [
    "loan_data['address']"
   ]
  },
  {
   "cell_type": "code",
   "execution_count": 65,
   "id": "70c5a73e",
   "metadata": {},
   "outputs": [],
   "source": [
    "loan_data['zip_code'] = loan_data['address'].apply(lambda address: address[-5:])"
   ]
  },
  {
   "cell_type": "code",
   "execution_count": 66,
   "id": "18f1b1b8",
   "metadata": {},
   "outputs": [
    {
     "data": {
      "text/plain": [
       "70466    56880\n",
       "22690    56413\n",
       "30723    56402\n",
       "48052    55811\n",
       "00813    45725\n",
       "29597    45393\n",
       "05113    45300\n",
       "11650    11210\n",
       "93700    11126\n",
       "86630    10959\n",
       "Name: zip_code, dtype: int64"
      ]
     },
     "execution_count": 66,
     "metadata": {},
     "output_type": "execute_result"
    }
   ],
   "source": [
    "loan_data['zip_code'].value_counts()"
   ]
  },
  {
   "cell_type": "code",
   "execution_count": 67,
   "id": "7c9681b5",
   "metadata": {},
   "outputs": [],
   "source": [
    "dummies = pd.get_dummies(loan_data['zip_code'], drop_first = True)\n",
    "loan_data = loan_data.drop(['zip_code', 'address'], axis = 1)\n",
    "loan_data = pd.concat([loan_data, dummies], axis = 1)"
   ]
  },
  {
   "cell_type": "code",
   "execution_count": 68,
   "id": "d4f83962",
   "metadata": {},
   "outputs": [
    {
     "name": "stdout",
     "output_type": "stream",
     "text": [
      "<class 'pandas.core.frame.DataFrame'>\n",
      "Int64Index: 395219 entries, 0 to 396029\n",
      "Data columns (total 47 columns):\n",
      " #   Column                               Non-Null Count   Dtype  \n",
      "---  ------                               --------------   -----  \n",
      " 0   loan_amnt                            395219 non-null  float64\n",
      " 1   term                                 395219 non-null  int64  \n",
      " 2   int_rate                             395219 non-null  float64\n",
      " 3   installment                          395219 non-null  float64\n",
      " 4   sub_grade                            395219 non-null  int64  \n",
      " 5   annual_inc                           395219 non-null  float64\n",
      " 6   issue_d                              395219 non-null  object \n",
      " 7   loan_status                          395219 non-null  object \n",
      " 8   dti                                  395219 non-null  float64\n",
      " 9   earliest_cr_line                     395219 non-null  object \n",
      " 10  open_acc                             395219 non-null  float64\n",
      " 11  pub_rec                              395219 non-null  float64\n",
      " 12  revol_bal                            395219 non-null  float64\n",
      " 13  revol_util                           395219 non-null  float64\n",
      " 14  total_acc                            395219 non-null  float64\n",
      " 15  mort_acc                             395219 non-null  float64\n",
      " 16  pub_rec_bankruptcies                 395219 non-null  float64\n",
      " 17  verification_status_Source Verified  395219 non-null  uint8  \n",
      " 18  verification_status_Verified         395219 non-null  uint8  \n",
      " 19  application_type_INDIVIDUAL          395219 non-null  uint8  \n",
      " 20  application_type_JOINT               395219 non-null  uint8  \n",
      " 21  initial_list_status_w                395219 non-null  uint8  \n",
      " 22  purpose_credit_card                  395219 non-null  uint8  \n",
      " 23  purpose_debt_consolidation           395219 non-null  uint8  \n",
      " 24  purpose_educational                  395219 non-null  uint8  \n",
      " 25  purpose_home_improvement             395219 non-null  uint8  \n",
      " 26  purpose_house                        395219 non-null  uint8  \n",
      " 27  purpose_major_purchase               395219 non-null  uint8  \n",
      " 28  purpose_medical                      395219 non-null  uint8  \n",
      " 29  purpose_moving                       395219 non-null  uint8  \n",
      " 30  purpose_other                        395219 non-null  uint8  \n",
      " 31  purpose_renewable_energy             395219 non-null  uint8  \n",
      " 32  purpose_small_business               395219 non-null  uint8  \n",
      " 33  purpose_vacation                     395219 non-null  uint8  \n",
      " 34  purpose_wedding                      395219 non-null  uint8  \n",
      " 35  OTHER                                395219 non-null  uint8  \n",
      " 36  OWN                                  395219 non-null  uint8  \n",
      " 37  RENT                                 395219 non-null  uint8  \n",
      " 38  05113                                395219 non-null  uint8  \n",
      " 39  11650                                395219 non-null  uint8  \n",
      " 40  22690                                395219 non-null  uint8  \n",
      " 41  29597                                395219 non-null  uint8  \n",
      " 42  30723                                395219 non-null  uint8  \n",
      " 43  48052                                395219 non-null  uint8  \n",
      " 44  70466                                395219 non-null  uint8  \n",
      " 45  86630                                395219 non-null  uint8  \n",
      " 46  93700                                395219 non-null  uint8  \n",
      "dtypes: float64(12), int64(2), object(3), uint8(30)\n",
      "memory usage: 65.6+ MB\n"
     ]
    }
   ],
   "source": [
    "loan_data.info()"
   ]
  },
  {
   "cell_type": "markdown",
   "id": "62184f3a",
   "metadata": {},
   "source": [
    "### *9) issue_d*"
   ]
  },
  {
   "cell_type": "markdown",
   "id": "e6b6d2d6",
   "metadata": {},
   "source": [
    "**This would be data leakage, we wouldn't know beforehand whether or not a loan would be issued when using our model, so in theory we wouldn't have an issue_date, we will drop this feature.**"
   ]
  },
  {
   "cell_type": "code",
   "execution_count": 69,
   "id": "c933d044",
   "metadata": {},
   "outputs": [
    {
     "name": "stdout",
     "output_type": "stream",
     "text": [
      "The month which the loan was funded\n"
     ]
    }
   ],
   "source": [
    "feature_info('issue_d')"
   ]
  },
  {
   "cell_type": "code",
   "execution_count": 70,
   "id": "12cc4a2f",
   "metadata": {},
   "outputs": [],
   "source": [
    "loan_data = loan_data.drop('issue_d', axis = 1)"
   ]
  },
  {
   "cell_type": "code",
   "execution_count": 71,
   "id": "dbb238eb",
   "metadata": {},
   "outputs": [
    {
     "name": "stdout",
     "output_type": "stream",
     "text": [
      "<class 'pandas.core.frame.DataFrame'>\n",
      "Int64Index: 395219 entries, 0 to 396029\n",
      "Data columns (total 46 columns):\n",
      " #   Column                               Non-Null Count   Dtype  \n",
      "---  ------                               --------------   -----  \n",
      " 0   loan_amnt                            395219 non-null  float64\n",
      " 1   term                                 395219 non-null  int64  \n",
      " 2   int_rate                             395219 non-null  float64\n",
      " 3   installment                          395219 non-null  float64\n",
      " 4   sub_grade                            395219 non-null  int64  \n",
      " 5   annual_inc                           395219 non-null  float64\n",
      " 6   loan_status                          395219 non-null  object \n",
      " 7   dti                                  395219 non-null  float64\n",
      " 8   earliest_cr_line                     395219 non-null  object \n",
      " 9   open_acc                             395219 non-null  float64\n",
      " 10  pub_rec                              395219 non-null  float64\n",
      " 11  revol_bal                            395219 non-null  float64\n",
      " 12  revol_util                           395219 non-null  float64\n",
      " 13  total_acc                            395219 non-null  float64\n",
      " 14  mort_acc                             395219 non-null  float64\n",
      " 15  pub_rec_bankruptcies                 395219 non-null  float64\n",
      " 16  verification_status_Source Verified  395219 non-null  uint8  \n",
      " 17  verification_status_Verified         395219 non-null  uint8  \n",
      " 18  application_type_INDIVIDUAL          395219 non-null  uint8  \n",
      " 19  application_type_JOINT               395219 non-null  uint8  \n",
      " 20  initial_list_status_w                395219 non-null  uint8  \n",
      " 21  purpose_credit_card                  395219 non-null  uint8  \n",
      " 22  purpose_debt_consolidation           395219 non-null  uint8  \n",
      " 23  purpose_educational                  395219 non-null  uint8  \n",
      " 24  purpose_home_improvement             395219 non-null  uint8  \n",
      " 25  purpose_house                        395219 non-null  uint8  \n",
      " 26  purpose_major_purchase               395219 non-null  uint8  \n",
      " 27  purpose_medical                      395219 non-null  uint8  \n",
      " 28  purpose_moving                       395219 non-null  uint8  \n",
      " 29  purpose_other                        395219 non-null  uint8  \n",
      " 30  purpose_renewable_energy             395219 non-null  uint8  \n",
      " 31  purpose_small_business               395219 non-null  uint8  \n",
      " 32  purpose_vacation                     395219 non-null  uint8  \n",
      " 33  purpose_wedding                      395219 non-null  uint8  \n",
      " 34  OTHER                                395219 non-null  uint8  \n",
      " 35  OWN                                  395219 non-null  uint8  \n",
      " 36  RENT                                 395219 non-null  uint8  \n",
      " 37  05113                                395219 non-null  uint8  \n",
      " 38  11650                                395219 non-null  uint8  \n",
      " 39  22690                                395219 non-null  uint8  \n",
      " 40  29597                                395219 non-null  uint8  \n",
      " 41  30723                                395219 non-null  uint8  \n",
      " 42  48052                                395219 non-null  uint8  \n",
      " 43  70466                                395219 non-null  uint8  \n",
      " 44  86630                                395219 non-null  uint8  \n",
      " 45  93700                                395219 non-null  uint8  \n",
      "dtypes: float64(12), int64(2), object(2), uint8(30)\n",
      "memory usage: 62.6+ MB\n"
     ]
    }
   ],
   "source": [
    "loan_data.info()"
   ]
  },
  {
   "cell_type": "markdown",
   "id": "c4f580f2",
   "metadata": {},
   "source": [
    "### *10) earliest_cr_line*"
   ]
  },
  {
   "cell_type": "markdown",
   "id": "1ddd223a",
   "metadata": {},
   "source": [
    "*This appears to be a historical time stamp feature. We will extract the year from this feature using an .apply function, then convert it to a numeric feature. Alsom, we will set this new data to a feature column called 'earliest_cr_year'.Then we will drop the earliest_cr_line feature.*"
   ]
  },
  {
   "cell_type": "code",
   "execution_count": 72,
   "id": "b6b1b887",
   "metadata": {},
   "outputs": [
    {
     "name": "stdout",
     "output_type": "stream",
     "text": [
      "The month the borrower's earliest reported credit line was opened\n"
     ]
    }
   ],
   "source": [
    "feature_info('earliest_cr_line')"
   ]
  },
  {
   "cell_type": "code",
   "execution_count": 73,
   "id": "0e7ba671",
   "metadata": {},
   "outputs": [
    {
     "data": {
      "text/plain": [
       "Oct-2000    3013\n",
       "Aug-2000    2930\n",
       "Oct-2001    2890\n",
       "Aug-2001    2879\n",
       "Nov-2000    2729\n",
       "            ... \n",
       "Jul-1955       1\n",
       "Oct-1950       1\n",
       "May-1958       1\n",
       "Nov-1955       1\n",
       "Aug-1959       1\n",
       "Name: earliest_cr_line, Length: 684, dtype: int64"
      ]
     },
     "execution_count": 73,
     "metadata": {},
     "output_type": "execute_result"
    }
   ],
   "source": [
    "loan_data['earliest_cr_line'].value_counts()"
   ]
  },
  {
   "cell_type": "code",
   "execution_count": 74,
   "id": "e7cbb873",
   "metadata": {},
   "outputs": [],
   "source": [
    "loan_data['earliest_cr_year'] = loan_data['earliest_cr_line'].apply(lambda date: int(date[-4:]))\n",
    "loan_data = loan_data.drop('earliest_cr_line', axis = 1)"
   ]
  },
  {
   "cell_type": "code",
   "execution_count": 75,
   "id": "58f3f9f6",
   "metadata": {},
   "outputs": [
    {
     "name": "stdout",
     "output_type": "stream",
     "text": [
      "<class 'pandas.core.frame.DataFrame'>\n",
      "Int64Index: 395219 entries, 0 to 396029\n",
      "Data columns (total 46 columns):\n",
      " #   Column                               Non-Null Count   Dtype  \n",
      "---  ------                               --------------   -----  \n",
      " 0   loan_amnt                            395219 non-null  float64\n",
      " 1   term                                 395219 non-null  int64  \n",
      " 2   int_rate                             395219 non-null  float64\n",
      " 3   installment                          395219 non-null  float64\n",
      " 4   sub_grade                            395219 non-null  int64  \n",
      " 5   annual_inc                           395219 non-null  float64\n",
      " 6   loan_status                          395219 non-null  object \n",
      " 7   dti                                  395219 non-null  float64\n",
      " 8   open_acc                             395219 non-null  float64\n",
      " 9   pub_rec                              395219 non-null  float64\n",
      " 10  revol_bal                            395219 non-null  float64\n",
      " 11  revol_util                           395219 non-null  float64\n",
      " 12  total_acc                            395219 non-null  float64\n",
      " 13  mort_acc                             395219 non-null  float64\n",
      " 14  pub_rec_bankruptcies                 395219 non-null  float64\n",
      " 15  verification_status_Source Verified  395219 non-null  uint8  \n",
      " 16  verification_status_Verified         395219 non-null  uint8  \n",
      " 17  application_type_INDIVIDUAL          395219 non-null  uint8  \n",
      " 18  application_type_JOINT               395219 non-null  uint8  \n",
      " 19  initial_list_status_w                395219 non-null  uint8  \n",
      " 20  purpose_credit_card                  395219 non-null  uint8  \n",
      " 21  purpose_debt_consolidation           395219 non-null  uint8  \n",
      " 22  purpose_educational                  395219 non-null  uint8  \n",
      " 23  purpose_home_improvement             395219 non-null  uint8  \n",
      " 24  purpose_house                        395219 non-null  uint8  \n",
      " 25  purpose_major_purchase               395219 non-null  uint8  \n",
      " 26  purpose_medical                      395219 non-null  uint8  \n",
      " 27  purpose_moving                       395219 non-null  uint8  \n",
      " 28  purpose_other                        395219 non-null  uint8  \n",
      " 29  purpose_renewable_energy             395219 non-null  uint8  \n",
      " 30  purpose_small_business               395219 non-null  uint8  \n",
      " 31  purpose_vacation                     395219 non-null  uint8  \n",
      " 32  purpose_wedding                      395219 non-null  uint8  \n",
      " 33  OTHER                                395219 non-null  uint8  \n",
      " 34  OWN                                  395219 non-null  uint8  \n",
      " 35  RENT                                 395219 non-null  uint8  \n",
      " 36  05113                                395219 non-null  uint8  \n",
      " 37  11650                                395219 non-null  uint8  \n",
      " 38  22690                                395219 non-null  uint8  \n",
      " 39  29597                                395219 non-null  uint8  \n",
      " 40  30723                                395219 non-null  uint8  \n",
      " 41  48052                                395219 non-null  uint8  \n",
      " 42  70466                                395219 non-null  uint8  \n",
      " 43  86630                                395219 non-null  uint8  \n",
      " 44  93700                                395219 non-null  uint8  \n",
      " 45  earliest_cr_year                     395219 non-null  int64  \n",
      "dtypes: float64(12), int64(3), object(1), uint8(30)\n",
      "memory usage: 62.6+ MB\n"
     ]
    }
   ],
   "source": [
    "loan_data.info()"
   ]
  },
  {
   "cell_type": "markdown",
   "id": "48a35d26",
   "metadata": {},
   "source": [
    "### *11) loan_status*"
   ]
  },
  {
   "cell_type": "markdown",
   "id": "3434e08a",
   "metadata": {},
   "source": [
    "**We will create a new column called 'loan_repaid' which will contain a 1 if the loan status was \"Fully Paid\" and a 0 if it was \"Charged Off\"**"
   ]
  },
  {
   "cell_type": "code",
   "execution_count": 76,
   "id": "e81dd7f8",
   "metadata": {},
   "outputs": [
    {
     "data": {
      "text/plain": [
       "array(['Fully Paid', 'Charged Off'], dtype=object)"
      ]
     },
     "execution_count": 76,
     "metadata": {},
     "output_type": "execute_result"
    }
   ],
   "source": [
    "loan_data['loan_status'].unique()"
   ]
  },
  {
   "cell_type": "code",
   "execution_count": 77,
   "id": "39266954",
   "metadata": {},
   "outputs": [],
   "source": [
    "loan_data['loan_repaid'] = loan_data['loan_status'].map({'Fully Paid':1, 'Charged Off':0})"
   ]
  },
  {
   "cell_type": "code",
   "execution_count": 78,
   "id": "6fc76d5a",
   "metadata": {},
   "outputs": [
    {
     "data": {
      "text/html": [
       "<div>\n",
       "<style scoped>\n",
       "    .dataframe tbody tr th:only-of-type {\n",
       "        vertical-align: middle;\n",
       "    }\n",
       "\n",
       "    .dataframe tbody tr th {\n",
       "        vertical-align: top;\n",
       "    }\n",
       "\n",
       "    .dataframe thead th {\n",
       "        text-align: right;\n",
       "    }\n",
       "</style>\n",
       "<table border=\"1\" class=\"dataframe\">\n",
       "  <thead>\n",
       "    <tr style=\"text-align: right;\">\n",
       "      <th></th>\n",
       "      <th>loan_status</th>\n",
       "      <th>loan_repaid</th>\n",
       "    </tr>\n",
       "  </thead>\n",
       "  <tbody>\n",
       "    <tr>\n",
       "      <th>0</th>\n",
       "      <td>Fully Paid</td>\n",
       "      <td>1</td>\n",
       "    </tr>\n",
       "    <tr>\n",
       "      <th>1</th>\n",
       "      <td>Fully Paid</td>\n",
       "      <td>1</td>\n",
       "    </tr>\n",
       "    <tr>\n",
       "      <th>2</th>\n",
       "      <td>Fully Paid</td>\n",
       "      <td>1</td>\n",
       "    </tr>\n",
       "    <tr>\n",
       "      <th>3</th>\n",
       "      <td>Fully Paid</td>\n",
       "      <td>1</td>\n",
       "    </tr>\n",
       "    <tr>\n",
       "      <th>4</th>\n",
       "      <td>Charged Off</td>\n",
       "      <td>0</td>\n",
       "    </tr>\n",
       "    <tr>\n",
       "      <th>...</th>\n",
       "      <td>...</td>\n",
       "      <td>...</td>\n",
       "    </tr>\n",
       "    <tr>\n",
       "      <th>396025</th>\n",
       "      <td>Fully Paid</td>\n",
       "      <td>1</td>\n",
       "    </tr>\n",
       "    <tr>\n",
       "      <th>396026</th>\n",
       "      <td>Fully Paid</td>\n",
       "      <td>1</td>\n",
       "    </tr>\n",
       "    <tr>\n",
       "      <th>396027</th>\n",
       "      <td>Fully Paid</td>\n",
       "      <td>1</td>\n",
       "    </tr>\n",
       "    <tr>\n",
       "      <th>396028</th>\n",
       "      <td>Fully Paid</td>\n",
       "      <td>1</td>\n",
       "    </tr>\n",
       "    <tr>\n",
       "      <th>396029</th>\n",
       "      <td>Fully Paid</td>\n",
       "      <td>1</td>\n",
       "    </tr>\n",
       "  </tbody>\n",
       "</table>\n",
       "<p>395219 rows × 2 columns</p>\n",
       "</div>"
      ],
      "text/plain": [
       "        loan_status  loan_repaid\n",
       "0        Fully Paid            1\n",
       "1        Fully Paid            1\n",
       "2        Fully Paid            1\n",
       "3        Fully Paid            1\n",
       "4       Charged Off            0\n",
       "...             ...          ...\n",
       "396025   Fully Paid            1\n",
       "396026   Fully Paid            1\n",
       "396027   Fully Paid            1\n",
       "396028   Fully Paid            1\n",
       "396029   Fully Paid            1\n",
       "\n",
       "[395219 rows x 2 columns]"
      ]
     },
     "execution_count": 78,
     "metadata": {},
     "output_type": "execute_result"
    }
   ],
   "source": [
    "loan_data[['loan_status','loan_repaid']]"
   ]
  },
  {
   "cell_type": "code",
   "execution_count": 79,
   "id": "7665198e",
   "metadata": {},
   "outputs": [],
   "source": [
    "loan_data = loan_data.drop('loan_status', axis = 1)"
   ]
  },
  {
   "cell_type": "code",
   "execution_count": 80,
   "id": "7949a061",
   "metadata": {},
   "outputs": [
    {
     "name": "stdout",
     "output_type": "stream",
     "text": [
      "<class 'pandas.core.frame.DataFrame'>\n",
      "Int64Index: 395219 entries, 0 to 396029\n",
      "Data columns (total 46 columns):\n",
      " #   Column                               Non-Null Count   Dtype  \n",
      "---  ------                               --------------   -----  \n",
      " 0   loan_amnt                            395219 non-null  float64\n",
      " 1   term                                 395219 non-null  int64  \n",
      " 2   int_rate                             395219 non-null  float64\n",
      " 3   installment                          395219 non-null  float64\n",
      " 4   sub_grade                            395219 non-null  int64  \n",
      " 5   annual_inc                           395219 non-null  float64\n",
      " 6   dti                                  395219 non-null  float64\n",
      " 7   open_acc                             395219 non-null  float64\n",
      " 8   pub_rec                              395219 non-null  float64\n",
      " 9   revol_bal                            395219 non-null  float64\n",
      " 10  revol_util                           395219 non-null  float64\n",
      " 11  total_acc                            395219 non-null  float64\n",
      " 12  mort_acc                             395219 non-null  float64\n",
      " 13  pub_rec_bankruptcies                 395219 non-null  float64\n",
      " 14  verification_status_Source Verified  395219 non-null  uint8  \n",
      " 15  verification_status_Verified         395219 non-null  uint8  \n",
      " 16  application_type_INDIVIDUAL          395219 non-null  uint8  \n",
      " 17  application_type_JOINT               395219 non-null  uint8  \n",
      " 18  initial_list_status_w                395219 non-null  uint8  \n",
      " 19  purpose_credit_card                  395219 non-null  uint8  \n",
      " 20  purpose_debt_consolidation           395219 non-null  uint8  \n",
      " 21  purpose_educational                  395219 non-null  uint8  \n",
      " 22  purpose_home_improvement             395219 non-null  uint8  \n",
      " 23  purpose_house                        395219 non-null  uint8  \n",
      " 24  purpose_major_purchase               395219 non-null  uint8  \n",
      " 25  purpose_medical                      395219 non-null  uint8  \n",
      " 26  purpose_moving                       395219 non-null  uint8  \n",
      " 27  purpose_other                        395219 non-null  uint8  \n",
      " 28  purpose_renewable_energy             395219 non-null  uint8  \n",
      " 29  purpose_small_business               395219 non-null  uint8  \n",
      " 30  purpose_vacation                     395219 non-null  uint8  \n",
      " 31  purpose_wedding                      395219 non-null  uint8  \n",
      " 32  OTHER                                395219 non-null  uint8  \n",
      " 33  OWN                                  395219 non-null  uint8  \n",
      " 34  RENT                                 395219 non-null  uint8  \n",
      " 35  05113                                395219 non-null  uint8  \n",
      " 36  11650                                395219 non-null  uint8  \n",
      " 37  22690                                395219 non-null  uint8  \n",
      " 38  29597                                395219 non-null  uint8  \n",
      " 39  30723                                395219 non-null  uint8  \n",
      " 40  48052                                395219 non-null  uint8  \n",
      " 41  70466                                395219 non-null  uint8  \n",
      " 42  86630                                395219 non-null  uint8  \n",
      " 43  93700                                395219 non-null  uint8  \n",
      " 44  earliest_cr_year                     395219 non-null  int64  \n",
      " 45  loan_repaid                          395219 non-null  int64  \n",
      "dtypes: float64(12), int64(4), uint8(30)\n",
      "memory usage: 62.6 MB\n"
     ]
    }
   ],
   "source": [
    "loan_data.info()"
   ]
  },
  {
   "cell_type": "markdown",
   "id": "76dae6ca",
   "metadata": {},
   "source": [
    "*Now, our dataset is ready to be train, as there are not missing values as well as all feature values are in numerical type.*"
   ]
  },
  {
   "cell_type": "markdown",
   "id": "6bb50064",
   "metadata": {},
   "source": [
    "## Train Test Split"
   ]
  },
  {
   "cell_type": "code",
   "execution_count": 81,
   "id": "990084f7",
   "metadata": {},
   "outputs": [],
   "source": [
    "from sklearn.model_selection import train_test_split"
   ]
  },
  {
   "cell_type": "code",
   "execution_count": 82,
   "id": "4c9fdec3",
   "metadata": {},
   "outputs": [],
   "source": [
    "X = loan_data.drop('loan_repaid',axis = 1).values\n",
    "y = loan_data['loan_repaid'].values"
   ]
  },
  {
   "cell_type": "code",
   "execution_count": 83,
   "id": "1cad016a",
   "metadata": {},
   "outputs": [],
   "source": [
    "X_train, X_test, y_train, y_test = train_test_split(X, y, test_size=0.2, random_state = 101)"
   ]
  },
  {
   "cell_type": "markdown",
   "id": "7b12668a",
   "metadata": {},
   "source": [
    "## Normalizing the Data\n",
    "\n",
    "**We will use a MinMaxScaler to normalize the feature data X_train and X_test. We don't want data leakage from the test set so we only fit on the X_train data.**"
   ]
  },
  {
   "cell_type": "code",
   "execution_count": 84,
   "id": "b991f934",
   "metadata": {},
   "outputs": [],
   "source": [
    "from sklearn.preprocessing import MinMaxScaler"
   ]
  },
  {
   "cell_type": "code",
   "execution_count": 85,
   "id": "845c73ad",
   "metadata": {},
   "outputs": [],
   "source": [
    "scaler = MinMaxScaler()"
   ]
  },
  {
   "cell_type": "code",
   "execution_count": 86,
   "id": "6954b3a9",
   "metadata": {},
   "outputs": [],
   "source": [
    "X_train = scaler.fit_transform(X_train)"
   ]
  },
  {
   "cell_type": "code",
   "execution_count": 87,
   "id": "0e52d52f",
   "metadata": {},
   "outputs": [],
   "source": [
    "X_test = scaler.transform(X_test)"
   ]
  },
  {
   "cell_type": "markdown",
   "id": "3562ce31",
   "metadata": {},
   "source": [
    "# Creating the Model"
   ]
  },
  {
   "cell_type": "code",
   "execution_count": 88,
   "id": "26322d47",
   "metadata": {},
   "outputs": [],
   "source": [
    "import tensorflow as tf\n",
    "from tensorflow.keras.models import Sequential\n",
    "from tensorflow.keras.layers import Dense,Dropout"
   ]
  },
  {
   "cell_type": "code",
   "execution_count": 89,
   "id": "1c131157",
   "metadata": {},
   "outputs": [],
   "source": [
    "model = Sequential()\n",
    "\n",
    "model.add(Dense(units=45, activation='relu'))\n",
    "model.add(Dropout(0.2))\n",
    "\n",
    "model.add(Dense(units=22, activation='relu'))\n",
    "model.add(Dropout(0.2))\n",
    "\n",
    "model.add(Dense(units=11, activation='relu'))\n",
    "model.add(Dropout(0.2))\n",
    "\n",
    "model.add(Dense(units=1, activation='sigmoid'))\n",
    "\n",
    "model.compile(loss='binary_crossentropy', optimizer='adam')"
   ]
  },
  {
   "cell_type": "code",
   "execution_count": 90,
   "id": "57a9a035",
   "metadata": {},
   "outputs": [
    {
     "data": {
      "text/plain": [
       "<keras.callbacks.History at 0x2a3b7460a90>"
      ]
     },
     "execution_count": 90,
     "metadata": {},
     "output_type": "execute_result"
    }
   ],
   "source": [
    "model.fit(x = X_train, \n",
    "          y = y_train,\n",
    "          epochs = 25, \n",
    "          batch_size = 256,\n",
    "          validation_data = (X_test, y_test), verbose = 0\n",
    ")"
   ]
  },
  {
   "cell_type": "code",
   "execution_count": 91,
   "id": "7d45cd0f",
   "metadata": {},
   "outputs": [],
   "source": [
    "losses = pd.DataFrame(model.history.history)"
   ]
  },
  {
   "cell_type": "code",
   "execution_count": 92,
   "id": "a7de5bac",
   "metadata": {},
   "outputs": [
    {
     "data": {
      "text/plain": [
       "<AxesSubplot:>"
      ]
     },
     "execution_count": 92,
     "metadata": {},
     "output_type": "execute_result"
    },
    {
     "data": {
      "image/png": "[encoded data removed]",
      "text/plain": [
       "<Figure size 432x288 with 1 Axes>"
      ]
     },
     "metadata": {
      "needs_background": "light"
     },
     "output_type": "display_data"
    }
   ],
   "source": [
    "losses[['loss', 'val_loss']].plot()"
   ]
  },
  {
   "cell_type": "code",
   "execution_count": 93,
   "id": "6413546d",
   "metadata": {},
   "outputs": [],
   "source": [
    "from sklearn.metrics import classification_report, confusion_matrix"
   ]
  },
  {
   "cell_type": "code",
   "execution_count": 94,
   "id": "3efa420f",
   "metadata": {},
   "outputs": [],
   "source": [
    "predictions = (model.predict(X_test) > 0.5).astype('int32')"
   ]
  },
  {
   "cell_type": "code",
   "execution_count": 95,
   "id": "264dbc4d",
   "metadata": {},
   "outputs": [
    {
     "name": "stdout",
     "output_type": "stream",
     "text": [
      "              precision    recall  f1-score   support\n",
      "\n",
      "           0       1.00      0.43      0.60     15658\n",
      "           1       0.88      1.00      0.93     63386\n",
      "\n",
      "    accuracy                           0.89     79044\n",
      "   macro avg       0.94      0.72      0.77     79044\n",
      "weighted avg       0.90      0.89      0.87     79044\n",
      "\n"
     ]
    }
   ],
   "source": [
    "print(classification_report(y_test, predictions))"
   ]
  },
  {
   "cell_type": "markdown",
   "id": "a0db6a5f",
   "metadata": {},
   "source": [
    "**We can notice there is small recall value when we predict 0 (not fully paid loan), which is normal, as our data is not equally distributed and this can be noticed on the graph below:**"
   ]
  },
  {
   "cell_type": "code",
   "execution_count": 96,
   "id": "aa0e30b0",
   "metadata": {},
   "outputs": [
    {
     "data": {
      "text/plain": [
       "<AxesSubplot:xlabel='loan_repaid', ylabel='count'>"
      ]
     },
     "execution_count": 96,
     "metadata": {},
     "output_type": "execute_result"
    },
    {
     "data": {
      "image/png": "[encoded data removed]",
      "text/plain": [
       "<Figure size 864x576 with 1 Axes>"
      ]
     },
     "metadata": {
      "needs_background": "light"
     },
     "output_type": "display_data"
    }
   ],
   "source": [
    "plt.figure(figsize = (12,8))\n",
    "sns.countplot(x = 'loan_repaid', data = loan_data)"
   ]
  },
  {
   "cell_type": "code",
   "execution_count": 97,
   "id": "93d73558",
   "metadata": {},
   "outputs": [
    {
     "data": {
      "text/plain": [
       "array([[ 6742,  8916],\n",
       "       [   18, 63368]], dtype=int64)"
      ]
     },
     "execution_count": 97,
     "metadata": {},
     "output_type": "execute_result"
    }
   ],
   "source": [
    "confusion_matrix(y_test, predictions)"
   ]
  },
  {
   "cell_type": "markdown",
   "id": "8804d727",
   "metadata": {},
   "source": [
    "*Let's generate random custoemr from our dataset. Given the customer below, would you offer this person a loan?*"
   ]
  },
  {
   "cell_type": "code",
   "execution_count": 98,
   "id": "87dc3573",
   "metadata": {},
   "outputs": [
    {
     "data": {
      "text/plain": [
       "loan_amnt                              25000.00\n",
       "term                                      60.00\n",
       "int_rate                                  18.24\n",
       "installment                              638.11\n",
       "sub_grade                                 19.00\n",
       "annual_inc                             61665.00\n",
       "dti                                       30.11\n",
       "open_acc                                  16.00\n",
       "pub_rec                                    0.00\n",
       "revol_bal                              27778.00\n",
       "revol_util                                65.50\n",
       "total_acc                                 46.00\n",
       "mort_acc                                   0.00\n",
       "pub_rec_bankruptcies                       0.00\n",
       "verification_status_Source Verified        0.00\n",
       "verification_status_Verified               1.00\n",
       "application_type_INDIVIDUAL                1.00\n",
       "application_type_JOINT                     0.00\n",
       "initial_list_status_w                      0.00\n",
       "purpose_credit_card                        0.00\n",
       "purpose_debt_consolidation                 1.00\n",
       "purpose_educational                        0.00\n",
       "purpose_home_improvement                   0.00\n",
       "purpose_house                              0.00\n",
       "purpose_major_purchase                     0.00\n",
       "purpose_medical                            0.00\n",
       "purpose_moving                             0.00\n",
       "purpose_other                              0.00\n",
       "purpose_renewable_energy                   0.00\n",
       "purpose_small_business                     0.00\n",
       "purpose_vacation                           0.00\n",
       "purpose_wedding                            0.00\n",
       "OTHER                                      0.00\n",
       "OWN                                        0.00\n",
       "RENT                                       1.00\n",
       "05113                                      0.00\n",
       "11650                                      0.00\n",
       "22690                                      0.00\n",
       "29597                                      0.00\n",
       "30723                                      1.00\n",
       "48052                                      0.00\n",
       "70466                                      0.00\n",
       "86630                                      0.00\n",
       "93700                                      0.00\n",
       "earliest_cr_year                        1996.00\n",
       "Name: 305323, dtype: float64"
      ]
     },
     "execution_count": 98,
     "metadata": {},
     "output_type": "execute_result"
    }
   ],
   "source": [
    "import random\n",
    "random.seed(101)\n",
    "random_ind = random.randint(0,len(loan_data))\n",
    "\n",
    "new_customer = loan_data.drop('loan_repaid',axis=1).iloc[random_ind]\n",
    "new_customer"
   ]
  },
  {
   "cell_type": "code",
   "execution_count": 99,
   "id": "2be2e754",
   "metadata": {},
   "outputs": [
    {
     "data": {
      "text/plain": [
       "array([[1]])"
      ]
     },
     "execution_count": 99,
     "metadata": {},
     "output_type": "execute_result"
    }
   ],
   "source": [
    "(model.predict(new_customer.values.reshape(1,45)) > 0.5).astype('int32')"
   ]
  },
  {
   "cell_type": "code",
   "execution_count": 100,
   "id": "c2877b8a",
   "metadata": {},
   "outputs": [
    {
     "data": {
      "text/plain": [
       "1.0"
      ]
     },
     "execution_count": 100,
     "metadata": {},
     "output_type": "execute_result"
    }
   ],
   "source": [
    "loan_data.iloc[random_ind]['loan_repaid']"
   ]
  },
  {
   "cell_type": "markdown",
   "id": "5aef511a",
   "metadata": {},
   "source": [
    "*Based on our model, the random generated customer is trust worthy for a loan and comparing with the actual status (loan_repaid), indeed our random generated customer has repaid his loan.*"
   ]
  },
  {
   "cell_type": "code",
   "execution_count": null,
   "id": "087546eb",
   "metadata": {},
   "outputs": [],
   "source": []
  }
 ],
 "metadata": {
  "kernelspec": {
   "display_name": "Python 3 (ipykernel)",
   "language": "python",
   "name": "python3"
  },
  "language_info": {
   "codemirror_mode": {
    "name": "ipython",
    "version": 3
   },
   "file_extension": ".py",
   "mimetype": "text/x-python",
   "name": "python",
   "nbconvert_exporter": "python",
   "pygments_lexer": "ipython3",
   "version": "3.9.7"
  }
 },
 "nbformat": 4,
 "nbformat_minor": 5
}
